{
 "cells": [
  {
   "cell_type": "code",
   "execution_count": 6,
   "metadata": {},
   "outputs": [
    {
     "name": "stdout",
     "output_type": "stream",
     "text": [
      "(395760, 148) (98940, 148) (395760,) (98940,)\n",
      "Number of 0s after SMOTE: 282686\n",
      "Number of 1s after SMOTE: 212014\n"
     ]
    }
   ],
   "source": [
    "import pandas as pd\n",
    "from sklearn.model_selection import train_test_split\n",
    "from sklearn.linear_model import LogisticRegression\n",
    "from sklearn.neighbors import KNeighborsClassifier\n",
    "from sklearn.linear_model import LinearRegression\n",
    "from sklearn.tree import DecisionTreeClassifier\n",
    "from sklearn.ensemble import RandomForestClassifier\n",
    "from sklearn.svm import SVC\n",
    "from sklearn.metrics import accuracy_score, recall_score, precision_score, f1_score, roc_auc_score\n",
    "from sklearn.metrics import mean_squared_error, r2_score, classification_report, confusion_matrix\n",
    "from sklearn.model_selection import GridSearchCV, StratifiedKFold\n",
    "from imblearn.over_sampling import SMOTE\n",
    "\n",
    "\n",
    "\n",
    "# Load the dataset\n",
    "data = pd.read_csv(\"ProcessedData.csv\")\n",
    "\n",
    "X = data.iloc[:, 2:].values  \n",
    "y = data.iloc[:, 1].values\n",
    "\n",
    "# SMOTE\n",
    "smote = SMOTE(sampling_strategy=0.75)  # adjust sampling_strategy as needed\n",
    "X_smote, y_smote = smote.fit_resample(X, y)\n",
    "\n",
    "# Split the data into training and testing sets\n",
    "X_train, X_test, y_train, y_test = train_test_split(X_smote, y_smote, test_size=0.2, random_state=42)\n",
    "print(X_train.shape, X_test.shape, y_train.shape, y_test.shape)\n",
    "\n",
    "# Count the number of 0s and 1s in the label after SMOTE\n",
    "label_counts_smote = pd.Series(y_smote).value_counts()\n",
    "\n",
    "print(\"Number of 0s after SMOTE:\", label_counts_smote[0])\n",
    "print(\"Number of 1s after SMOTE:\", label_counts_smote[1])"
   ]
  },
  {
   "cell_type": "markdown",
   "metadata": {},
   "source": [
    "# KNN"
   ]
  },
  {
   "cell_type": "code",
   "execution_count": 7,
   "metadata": {},
   "outputs": [
    {
     "name": "stdout",
     "output_type": "stream",
     "text": [
      "Accuracy: 0.7696583788154437\n",
      "Recall: 0.9904699155234488\n",
      "Precision: 0.6528219365044899\n",
      "F1 Score: 0.7869575784770131\n",
      "AUC: 0.7969375603873821\n",
      "\n",
      "Classification Report:\n",
      "              precision    recall  f1-score   support\n",
      "\n",
      "           0       0.99      0.60      0.75     56443\n",
      "           1       0.65      0.99      0.79     42497\n",
      "\n",
      "    accuracy                           0.77     98940\n",
      "   macro avg       0.82      0.80      0.77     98940\n",
      "weighted avg       0.84      0.77      0.77     98940\n",
      "\n"
     ]
    }
   ],
   "source": [
    "# Initialize the KNN classifier\n",
    "k = 8  # You can choose any value for k\n",
    "knn_classifier = KNeighborsClassifier(n_neighbors=k)\n",
    "\n",
    "# Train the classifier\n",
    "knn_classifier.fit(X_train, y_train)\n",
    "\n",
    "# Predictions on the test set\n",
    "y_pred = knn_classifier.predict(X_test)\n",
    "\n",
    "# Evaluate the model\n",
    "\n",
    "accuracy = accuracy_score(y_test, y_pred)\n",
    "recall = recall_score(y_test, y_pred)\n",
    "precision = precision_score(y_test, y_pred)\n",
    "f1 = f1_score(y_test, y_pred)\n",
    "auc = roc_auc_score(y_test, y_pred)\n",
    "\n",
    "# Print the metrics\n",
    "print(\"Accuracy:\", accuracy)\n",
    "print(\"Recall:\", recall)\n",
    "print(\"Precision:\", precision)\n",
    "print(\"F1 Score:\", f1)\n",
    "print(\"AUC:\", auc)\n",
    "\n",
    "# Additional evaluation metrics\n",
    "print(\"\\nClassification Report:\")\n",
    "print(classification_report(y_test, y_pred))"
   ]
  },
  {
   "cell_type": "markdown",
   "metadata": {},
   "source": [
    "# Linear Regression"
   ]
  },
  {
   "cell_type": "code",
   "execution_count": 8,
   "metadata": {},
   "outputs": [
    {
     "name": "stdout",
     "output_type": "stream",
     "text": [
      "\n",
      "Linear Regression Mean Squared Error: 0.34123711340206186\n",
      "Linear Regression R-squared Score: -0.3926170558130775\n"
     ]
    }
   ],
   "source": [
    "# Create a Linear Regression model\n",
    "linear_reg = LinearRegression()\n",
    "\n",
    "# Train the Linear Regression model\n",
    "linear_reg.fit(X_train, y_train)\n",
    "\n",
    "# Make predictions using Linear Regression\n",
    "linear_reg_y_pred = linear_reg.predict(X_test)\n",
    "\n",
    "# Convert predictions to binary using a threshold of 0.5\n",
    "threshold = 0.5\n",
    "binary_predictions = (linear_reg_y_pred > threshold).astype(int)\n",
    "\n",
    "# Evaluate the Linear Regression model\n",
    "linear_reg_mse = mean_squared_error(y_test, binary_predictions)\n",
    "linear_reg_r2 = r2_score(y_test, binary_predictions)\n",
    "\n",
    "print(\"\\nLinear Regression Mean Squared Error:\", linear_reg_mse)\n",
    "print(\"Linear Regression R-squared Score:\", linear_reg_r2)"
   ]
  },
  {
   "cell_type": "markdown",
   "metadata": {},
   "source": [
    "# Logistic Regression"
   ]
  },
  {
   "cell_type": "code",
   "execution_count": 9,
   "metadata": {},
   "outputs": [
    {
     "name": "stderr",
     "output_type": "stream",
     "text": [
      "c:\\Users\\bodyb\\anaconda3\\Lib\\site-packages\\sklearn\\linear_model\\_logistic.py:469: ConvergenceWarning: lbfgs failed to converge (status=1):\n",
      "STOP: TOTAL NO. of ITERATIONS REACHED LIMIT.\n",
      "\n",
      "Increase the number of iterations (max_iter) or scale the data as shown in:\n",
      "    https://scikit-learn.org/stable/modules/preprocessing.html\n",
      "Please also refer to the documentation for alternative solver options:\n",
      "    https://scikit-learn.org/stable/modules/linear_model.html#logistic-regression\n",
      "  n_iter_i = _check_optimize_result(\n"
     ]
    },
    {
     "name": "stdout",
     "output_type": "stream",
     "text": [
      "\n",
      "True Positives (TP): 21681\n",
      "False Positives (FP): 13329\n",
      "True Negatives (TN): 43114\n",
      "False Negatives (FN): 20816\n",
      "\n",
      "Positive Predictions: 35010\n",
      "Negative Predictions: 63930\n",
      "\n",
      "Logistic Regression Accuracy: 0.654891853648676\n",
      "Logistic Regression Recall: 0.5101771889780455\n",
      "Logistic Regression Precision: 0.619280205655527\n",
      "Logistic Regression F1 Score: 0.5594591456255564\n",
      "Logistic Regression AUC: 0.637013722494267\n",
      "\n",
      "Logistic Regression Classification Report:\n",
      "              precision    recall  f1-score   support\n",
      "\n",
      "           0       0.67      0.76      0.72     56443\n",
      "           1       0.62      0.51      0.56     42497\n",
      "\n",
      "    accuracy                           0.65     98940\n",
      "   macro avg       0.65      0.64      0.64     98940\n",
      "weighted avg       0.65      0.65      0.65     98940\n",
      "\n",
      "\n",
      "Mean Squared Error: 0.23034162118455628\n",
      "R-squared Score: 0.0599566760861312\n"
     ]
    }
   ],
   "source": [
    "logistic_reg = LogisticRegression()\n",
    "\n",
    "# Train the Logistic Regression model\n",
    "logistic_reg.fit(X_train, y_train)\n",
    "\n",
    "# Make predictions using Logistic Regression\n",
    "logistic_reg_y_pred = logistic_reg.predict(X_test)\n",
    "\n",
    "conf_matrix = confusion_matrix(y_test, logistic_reg_y_pred)\n",
    "tn, fp, fn, tp = conf_matrix.ravel()\n",
    "\n",
    "# Output TP, FP, TN, FN\n",
    "print(\"\\nTrue Positives (TP):\", tp)\n",
    "print(\"False Positives (FP):\", fp)\n",
    "print(\"True Negatives (TN):\", tn)\n",
    "print(\"False Negatives (FN):\", fn)\n",
    "\n",
    "positive_predictions = (logistic_reg_y_pred == 1).sum()\n",
    "negative_predictions = (logistic_reg_y_pred == 0).sum()\n",
    "print(\"\\nPositive Predictions:\", positive_predictions)\n",
    "print(\"Negative Predictions:\", negative_predictions)\n",
    "\n",
    "# Evaluate Logistic Regression model\n",
    "logistic_reg_accuracy = accuracy_score(y_test, logistic_reg_y_pred)\n",
    "logistic_reg_accuracy = accuracy_score(y_test, logistic_reg_y_pred)\n",
    "logistic_reg_recall = recall_score(y_test, logistic_reg_y_pred)\n",
    "logistic_reg_precision = precision_score(y_test, logistic_reg_y_pred)\n",
    "logistic_reg_f1 = f1_score(y_test, logistic_reg_y_pred)\n",
    "logistic_reg_auc = roc_auc_score(y_test, logistic_reg_y_pred)\n",
    "\n",
    "print(\"\\nLogistic Regression Accuracy:\", logistic_reg_accuracy)\n",
    "print(\"Logistic Regression Recall:\", logistic_reg_recall)\n",
    "print(\"Logistic Regression Precision:\", logistic_reg_precision)\n",
    "print(\"Logistic Regression F1 Score:\", logistic_reg_f1)\n",
    "print(\"Logistic Regression AUC:\", logistic_reg_auc)\n",
    "\n",
    "print(\"\\nLogistic Regression Classification Report:\")\n",
    "print(classification_report(y_test, logistic_reg_y_pred))\n",
    "\n",
    "mse = mean_squared_error(y_test, y_pred)\n",
    "r2_sc = r2_score(y_test, y_pred)\n",
    "\n",
    "print(\"\\nMean Squared Error:\", mse)\n",
    "print(\"R-squared Score:\", r2_sc)"
   ]
  },
  {
   "cell_type": "markdown",
   "metadata": {},
   "source": [
    "# Decision Trees"
   ]
  },
  {
   "cell_type": "code",
   "execution_count": 10,
   "metadata": {},
   "outputs": [
    {
     "name": "stdout",
     "output_type": "stream",
     "text": [
      "Decision Tree Classifier Metrics:\n",
      "Accuracy: 0.8890944006468566\n",
      "Precision: 0.8613148725472217\n",
      "Recall: 0.8841565286961433\n",
      "F1 Score: 0.8725862449344527\n",
      "AUC: 0.888484373165817\n",
      "\n",
      "Classification Report:\n",
      "              precision    recall  f1-score   support\n",
      "\n",
      "           0       0.91      0.89      0.90     56443\n",
      "           1       0.86      0.88      0.87     42497\n",
      "\n",
      "    accuracy                           0.89     98940\n",
      "   macro avg       0.89      0.89      0.89     98940\n",
      "weighted avg       0.89      0.89      0.89     98940\n",
      "\n",
      "\n",
      "Mean Squared Error: 0.11090559935314331\n",
      "R-squared Score: 0.547385020039189\n"
     ]
    }
   ],
   "source": [
    "# Create a Random Forest classifier\n",
    "dt_classifier = DecisionTreeClassifier()\n",
    "\n",
    "# Train the classifier on the training data\n",
    "dt_classifier.fit(X_train, y_train)\n",
    "\n",
    "# Predict on the testing data\n",
    "y_pred = dt_classifier.predict(X_test)\n",
    "\n",
    "# Calculate the accuracy of the model\n",
    "accuracy = accuracy_score(y_test, y_pred)\n",
    "precision = precision_score(y_test, y_pred)\n",
    "recall = recall_score(y_test, y_pred)\n",
    "f1 = f1_score(y_test, y_pred)\n",
    "auc = roc_auc_score(y_test, y_pred)\n",
    "\n",
    "# Print the evaluation metrics\n",
    "print(\"Decision Tree Classifier Metrics:\")\n",
    "print(\"Accuracy:\", accuracy)\n",
    "print(\"Precision:\", precision)\n",
    "print(\"Recall:\", recall)\n",
    "print(\"F1 Score:\", f1)\n",
    "print(\"AUC:\", auc)\n",
    "\n",
    "# Classification report\n",
    "print(\"\\nClassification Report:\")\n",
    "print(classification_report(y_test, y_pred))\n",
    "\n",
    "mse = mean_squared_error(y_test, y_pred)\n",
    "r2_sc = r2_score(y_test, y_pred)\n",
    "\n",
    "print(\"\\nMean Squared Error:\", mse)\n",
    "print(\"R-squared Score:\", r2_sc)"
   ]
  },
  {
   "cell_type": "markdown",
   "metadata": {},
   "source": [
    "# Random Forest"
   ]
  },
  {
   "cell_type": "code",
   "execution_count": 11,
   "metadata": {},
   "outputs": [
    {
     "name": "stdout",
     "output_type": "stream",
     "text": [
      "Random Forest Classifier Metrics:\n",
      "Accuracy: 0.9518900343642611\n",
      "Precision: 0.9987049028677151\n",
      "Recall: 0.8891451161258441\n",
      "F1 Score: 0.9407459044963402\n",
      "AUC: 0.9441384918368179\n",
      "\n",
      "Classification Report:\n",
      "              precision    recall  f1-score   support\n",
      "\n",
      "           0       0.92      1.00      0.96     56443\n",
      "           1       1.00      0.89      0.94     42497\n",
      "\n",
      "    accuracy                           0.95     98940\n",
      "   macro avg       0.96      0.94      0.95     98940\n",
      "weighted avg       0.96      0.95      0.95     98940\n",
      "\n",
      "\n",
      "Mean Squared Error: 0.048109965635738834\n",
      "R-squared Score: 0.8036592267735843\n"
     ]
    }
   ],
   "source": [
    "# Create a Random Forest classifier\n",
    "rf_classifier = RandomForestClassifier()\n",
    "\n",
    "# Train the classifier on the training data\n",
    "rf_classifier.fit(X_train, y_train)\n",
    "\n",
    "# Predict on the testing data\n",
    "y_pred = rf_classifier.predict(X_test)\n",
    "\n",
    "# Calculate the accuracy of the model\n",
    "accuracy = accuracy_score(y_test, y_pred)\n",
    "precision = precision_score(y_test, y_pred)\n",
    "recall = recall_score(y_test, y_pred)\n",
    "f1 = f1_score(y_test, y_pred)\n",
    "auc = roc_auc_score(y_test, y_pred)\n",
    "\n",
    "# Print the evaluation metrics\n",
    "print(\"Random Forest Classifier Metrics:\")\n",
    "print(\"Accuracy:\", accuracy)\n",
    "print(\"Precision:\", precision)\n",
    "print(\"Recall:\", recall)\n",
    "print(\"F1 Score:\", f1)\n",
    "print(\"AUC:\", auc)\n",
    "\n",
    "# Classification report\n",
    "print(\"\\nClassification Report:\")\n",
    "print(classification_report(y_test, y_pred))\n",
    "\n",
    "mse = mean_squared_error(y_test, y_pred)\n",
    "r2_sc = r2_score(y_test, y_pred)\n",
    "\n",
    "print(\"\\nMean Squared Error:\", mse)\n",
    "print(\"R-squared Score:\", r2_sc)"
   ]
  },
  {
   "cell_type": "markdown",
   "metadata": {},
   "source": [
    "# Naive Bayes"
   ]
  },
  {
   "cell_type": "code",
   "execution_count": null,
   "metadata": {},
   "outputs": [],
   "source": []
  },
  {
   "cell_type": "markdown",
   "metadata": {},
   "source": [
    "# Bayesian Networks"
   ]
  },
  {
   "cell_type": "code",
   "execution_count": null,
   "metadata": {},
   "outputs": [],
   "source": []
  },
  {
   "cell_type": "markdown",
   "metadata": {},
   "source": [
    "# Neural Networks"
   ]
  },
  {
   "cell_type": "code",
   "execution_count": null,
   "metadata": {},
   "outputs": [],
   "source": []
  },
  {
   "cell_type": "markdown",
   "metadata": {},
   "source": [
    "# Convolutional Neural Networks"
   ]
  },
  {
   "cell_type": "code",
   "execution_count": null,
   "metadata": {},
   "outputs": [],
   "source": []
  },
  {
   "cell_type": "markdown",
   "metadata": {},
   "source": [
    "# Support Vector Machines"
   ]
  },
  {
   "cell_type": "code",
   "execution_count": 12,
   "metadata": {},
   "outputs": [],
   "source": [
    "svm_model = SVC(kernel='rbf', C=1.0, gamma='auto', random_state=42)\n",
    "svm_model.fit(X_train, y_train)\n",
    "\n",
    "# Predictions\n",
    "y_pred_train = svm_model.predict(X_train)\n",
    "y_pred_test = svm_model.predict(X_test)\n",
    "\n",
    "# Evaluate the model\n",
    "train_accuracy = accuracy_score(y_train, y_pred_train)\n",
    "test_accuracy = accuracy_score(y_test, y_pred_test)\n",
    "\n",
    "print(\"Train Accuracy:\", train_accuracy)\n",
    "print(\"Test Accuracy:\", test_accuracy)\n",
    "\n",
    "# Classification report\n",
    "print(\"\\nClassification Report on Test Data:\")\n",
    "print(classification_report(y_test, y_pred_test))"
   ]
  },
  {
   "cell_type": "code",
   "execution_count": null,
   "metadata": {},
   "outputs": [],
   "source": [
    "from cuml.svm import SVC\n",
    "\n",
    "# Initialize and train the SVM classifier on GPU\n",
    "svm = SVC()\n",
    "svm.fit(X_train, y_train)\n",
    "\n",
    "# Predict on the test set\n",
    "y_pred = svm.predict(X_test)\n",
    "\n",
    "# Calculate the accuracy of the model\n",
    "accuracy = accuracy_score(y_test, y_pred)\n",
    "precision = precision_score(y_test, y_pred)\n",
    "recall = recall_score(y_test, y_pred)\n",
    "f1 = f1_score(y_test, y_pred)\n",
    "auc = roc_auc_score(y_test, y_pred)\n",
    "\n",
    "# Print the evaluation metrics\n",
    "print(\"Random Forest Classifier Metrics:\")\n",
    "print(\"Accuracy:\", accuracy)\n",
    "print(\"Precision:\", precision)\n",
    "print(\"Recall:\", recall)\n",
    "print(\"F1 Score:\", f1)\n",
    "print(\"AUC:\", auc)\n",
    "\n",
    "# Classification report\n",
    "print(\"\\nClassification Report:\")\n",
    "print(classification_report(y_test, y_pred))"
   ]
  }
 ],
 "metadata": {
  "kernelspec": {
   "display_name": "Python 3",
   "language": "python",
   "name": "python3"
  },
  "language_info": {
   "codemirror_mode": {
    "name": "ipython",
    "version": 3
   },
   "file_extension": ".py",
   "mimetype": "text/x-python",
   "name": "python",
   "nbconvert_exporter": "python",
   "pygments_lexer": "ipython3",
   "version": "3.11.5"
  }
 },
 "nbformat": 4,
 "nbformat_minor": 2
}
