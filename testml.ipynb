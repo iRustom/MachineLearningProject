{
 "cells": [
  {
   "cell_type": "code",
   "execution_count": 1,
   "metadata": {},
   "outputs": [
    {
     "name": "stdout",
     "output_type": "stream",
     "text": [
      "(395760, 148) (98940, 148) (395760,) (98940,)\n",
      "Number of 0s after SMOTE: 282686\n",
      "Number of 1s after SMOTE: 212014\n"
     ]
    }
   ],
   "source": [
    "import pandas as pd\n",
    "from sklearn.model_selection import train_test_split\n",
    "from sklearn.linear_model import LogisticRegression\n",
    "from sklearn.neighbors import KNeighborsClassifier\n",
    "from sklearn.linear_model import LinearRegression\n",
    "from sklearn.tree import DecisionTreeClassifier\n",
    "from sklearn.ensemble import RandomForestClassifier\n",
    "from sklearn.naive_bayes import GaussianNB\n",
    "#from sklearn.svm import SVC\n",
    "from sklearn.metrics import accuracy_score, recall_score, precision_score, f1_score, roc_auc_score\n",
    "from sklearn.metrics import mean_squared_error, r2_score, classification_report, confusion_matrix\n",
    "from sklearn.model_selection import GridSearchCV, StratifiedKFold\n",
    "from imblearn.over_sampling import SMOTE\n",
    "\n",
    "\n",
    "\n",
    "\n",
    "# Load the dataset\n",
    "data = pd.read_csv(\"ProcessedData.csv\")\n",
    "\n",
    "X = data.iloc[:, 2:].values  \n",
    "y = data.iloc[:, 1].values\n",
    "\n",
    "# SMOTE\n",
    "smote = SMOTE(sampling_strategy=0.75)  # adjust sampling_strategy as needed\n",
    "X_smote, y_smote = smote.fit_resample(X, y)\n",
    "\n",
    "# Split the data into training and testing sets\n",
    "X_train, X_test, y_train, y_test = train_test_split(X_smote, y_smote, test_size=0.2, random_state=42)\n",
    "print(X_train.shape, X_test.shape, y_train.shape, y_test.shape)\n",
    "\n",
    "# Count the number of 0s and 1s in the label after SMOTE\n",
    "label_counts_smote = pd.Series(y_smote).value_counts()\n",
    "\n",
    "print(\"Number of 0s after SMOTE:\", label_counts_smote[0])\n",
    "print(\"Number of 1s after SMOTE:\", label_counts_smote[1])"
   ]
  },
  {
   "cell_type": "markdown",
   "metadata": {},
   "source": [
    "# KNN"
   ]
  },
  {
   "cell_type": "code",
   "execution_count": 3,
   "metadata": {},
   "outputs": [
    {
     "name": "stdout",
     "output_type": "stream",
     "text": [
      "Accuracy: 0.7695472003234284\n",
      "Recall: 0.989975762995035\n",
      "Precision: 0.6528101045836825\n",
      "F1 Score: 0.7867929644764035\n",
      "AUC: 0.7967790690672782\n",
      "\n",
      "Classification Report:\n",
      "              precision    recall  f1-score   support\n",
      "\n",
      "           0       0.99      0.60      0.75     56443\n",
      "           1       0.65      0.99      0.79     42497\n",
      "\n",
      "    accuracy                           0.77     98940\n",
      "   macro avg       0.82      0.80      0.77     98940\n",
      "weighted avg       0.84      0.77      0.77     98940\n",
      "\n"
     ]
    }
   ],
   "source": [
    "# Initialize the KNN classifier\n",
    "k = 8  # You can choose any value for k\n",
    "knn_classifier = KNeighborsClassifier(n_neighbors=k)\n",
    "\n",
    "# Train the classifier\n",
    "knn_classifier.fit(X_train, y_train)\n",
    "\n",
    "# Predictions on the test set\n",
    "y_pred = knn_classifier.predict(X_test)\n",
    "\n",
    "# Evaluate the model\n",
    "\n",
    "accuracy = accuracy_score(y_test, y_pred)\n",
    "recall = recall_score(y_test, y_pred)\n",
    "precision = precision_score(y_test, y_pred)\n",
    "f1 = f1_score(y_test, y_pred)\n",
    "auc = roc_auc_score(y_test, y_pred)\n",
    "\n",
    "# Print the metrics\n",
    "print(\"Accuracy:\", accuracy)\n",
    "print(\"Recall:\", recall)\n",
    "print(\"Precision:\", precision)\n",
    "print(\"F1 Score:\", f1)\n",
    "print(\"AUC:\", auc)\n",
    "\n",
    "# Additional evaluation metrics\n",
    "print(\"\\nClassification Report:\")\n",
    "print(classification_report(y_test, y_pred))"
   ]
  },
  {
   "cell_type": "markdown",
   "metadata": {},
   "source": [
    "# Linear Regression"
   ]
  },
  {
   "cell_type": "code",
   "execution_count": 13,
   "metadata": {},
   "outputs": [
    {
     "name": "stdout",
     "output_type": "stream",
     "text": [
      "\n",
      "Linear Regression Mean Squared Error: 0.34385486153224176\n",
      "Linear Regression R-squared Score: -0.40330030376804427\n",
      "\n",
      "Classification Report:\n",
      "              precision    recall  f1-score   support\n",
      "\n",
      "           0       0.73      0.23      0.35     56443\n",
      "           1       0.47      0.89      0.61     42497\n",
      "\n",
      "    accuracy                           0.51     98940\n",
      "   macro avg       0.60      0.56      0.48     98940\n",
      "weighted avg       0.62      0.51      0.46     98940\n",
      "\n"
     ]
    }
   ],
   "source": [
    "# Create a Linear Regression model\n",
    "linear_reg = LinearRegression()\n",
    "\n",
    "# Train the Linear Regression model\n",
    "linear_reg.fit(X_train, y_train)\n",
    "\n",
    "# Make predictions using Linear Regression\n",
    "linear_reg_y_pred = linear_reg.predict(X_test)\n",
    "\n",
    "# Convert predictions to binary using a threshold of 0.5\n",
    "threshold = 0.5\n",
    "binary_predictions = (linear_reg_y_pred > threshold).astype(int)\n",
    "\n",
    "# Evaluate the Linear Regression model\n",
    "linear_reg_mse = mean_squared_error(y_test, binary_predictions)\n",
    "linear_reg_r2 = r2_score(y_test, binary_predictions)\n",
    "\n",
    "print(\"\\nLinear Regression Mean Squared Error:\", linear_reg_mse)\n",
    "print(\"Linear Regression R-squared Score:\", linear_reg_r2)\n",
    "\n",
    "print(\"\\nClassification Report:\")\n",
    "print(classification_report(y_test, y_pred))"
   ]
  },
  {
   "cell_type": "markdown",
   "metadata": {},
   "source": [
    "# Logistic Regression"
   ]
  },
  {
   "cell_type": "code",
   "execution_count": 17,
   "metadata": {},
   "outputs": [
    {
     "name": "stdout",
     "output_type": "stream",
     "text": [
      "\n",
      "True Positives (TP): 21939\n",
      "False Positives (FP): 13491\n",
      "True Negatives (TN): 42952\n",
      "False Negatives (FN): 20558\n",
      "\n",
      "Positive Predictions: 35430\n",
      "Negative Predictions: 63510\n",
      "\n",
      "Logistic Regression Accuracy: 0.655862138669901\n",
      "Logistic Regression Recall: 0.5162482057557004\n",
      "Logistic Regression Precision: 0.6192209991532599\n",
      "Logistic Regression F1 Score: 0.56306543303348\n",
      "Logistic Regression AUC: 0.6386141547886274\n",
      "\n",
      "Logistic Regression Classification Report:\n",
      "              precision    recall  f1-score   support\n",
      "\n",
      "           0       0.68      0.76      0.72     56443\n",
      "           1       0.62      0.52      0.56     42497\n",
      "\n",
      "    accuracy                           0.66     98940\n",
      "   macro avg       0.65      0.64      0.64     98940\n",
      "weighted avg       0.65      0.66      0.65     98940\n",
      "\n",
      "\n",
      "Mean Squared Error: 0.485961188599151\n",
      "R-squared Score: -0.9832480498948102\n"
     ]
    }
   ],
   "source": [
    "logistic_reg = LogisticRegression(max_iter=5000)\n",
    "\n",
    "# Train the Logistic Regression model\n",
    "logistic_reg.fit(X_train, y_train)\n",
    "\n",
    "# Make predictions using Logistic Regression\n",
    "logistic_reg_y_pred = logistic_reg.predict(X_test)\n",
    "\n",
    "conf_matrix = confusion_matrix(y_test, logistic_reg_y_pred)\n",
    "tn, fp, fn, tp = conf_matrix.ravel()\n",
    "\n",
    "# Output TP, FP, TN, FN\n",
    "print(\"\\nTrue Positives (TP):\", tp)\n",
    "print(\"False Positives (FP):\", fp)\n",
    "print(\"True Negatives (TN):\", tn)\n",
    "print(\"False Negatives (FN):\", fn)\n",
    "\n",
    "positive_predictions = (logistic_reg_y_pred == 1).sum()\n",
    "negative_predictions = (logistic_reg_y_pred == 0).sum()\n",
    "print(\"\\nPositive Predictions:\", positive_predictions)\n",
    "print(\"Negative Predictions:\", negative_predictions)\n",
    "\n",
    "# Evaluate Logistic Regression model\n",
    "logistic_reg_accuracy = accuracy_score(y_test, logistic_reg_y_pred)\n",
    "logistic_reg_accuracy = accuracy_score(y_test, logistic_reg_y_pred)\n",
    "logistic_reg_recall = recall_score(y_test, logistic_reg_y_pred)\n",
    "logistic_reg_precision = precision_score(y_test, logistic_reg_y_pred)\n",
    "logistic_reg_f1 = f1_score(y_test, logistic_reg_y_pred)\n",
    "logistic_reg_auc = roc_auc_score(y_test, logistic_reg_y_pred)\n",
    "\n",
    "print(\"\\nLogistic Regression Accuracy:\", logistic_reg_accuracy)\n",
    "print(\"Logistic Regression Recall:\", logistic_reg_recall)\n",
    "print(\"Logistic Regression Precision:\", logistic_reg_precision)\n",
    "print(\"Logistic Regression F1 Score:\", logistic_reg_f1)\n",
    "print(\"Logistic Regression AUC:\", logistic_reg_auc)\n",
    "\n",
    "print(\"\\nLogistic Regression Classification Report:\")\n",
    "print(classification_report(y_test, logistic_reg_y_pred))\n",
    "\n",
    "mse = mean_squared_error(y_test, y_pred)\n",
    "r2_sc = r2_score(y_test, y_pred)\n",
    "\n",
    "print(\"\\nMean Squared Error:\", mse)\n",
    "print(\"R-squared Score:\", r2_sc)"
   ]
  },
  {
   "cell_type": "markdown",
   "metadata": {},
   "source": [
    "# Decision Trees"
   ]
  },
  {
   "cell_type": "code",
   "execution_count": 6,
   "metadata": {},
   "outputs": [
    {
     "name": "stdout",
     "output_type": "stream",
     "text": [
      "Decision Tree Classifier Metrics:\n",
      "Accuracy: 0.8885991510006064\n",
      "Precision: 0.8614077391204501\n",
      "Recall: 0.8826505400381204\n",
      "F1 Score: 0.8718997698798262\n",
      "AUC: 0.88786425625296\n",
      "\n",
      "Classification Report:\n",
      "              precision    recall  f1-score   support\n",
      "\n",
      "           0       0.91      0.89      0.90     56443\n",
      "           1       0.86      0.88      0.87     42497\n",
      "\n",
      "    accuracy                           0.89     98940\n",
      "   macro avg       0.89      0.89      0.89     98940\n",
      "weighted avg       0.89      0.89      0.89     98940\n",
      "\n",
      "\n",
      "Mean Squared Error: 0.11140084899939358\n",
      "R-squared Score: 0.5453638650206818\n"
     ]
    }
   ],
   "source": [
    "# Create a Random Forest classifier\n",
    "dt_classifier = DecisionTreeClassifier()\n",
    "\n",
    "# Train the classifier on the training data\n",
    "dt_classifier.fit(X_train, y_train)\n",
    "\n",
    "# Predict on the testing data\n",
    "y_pred = dt_classifier.predict(X_test)\n",
    "\n",
    "# Calculate the accuracy of the model\n",
    "accuracy = accuracy_score(y_test, y_pred)\n",
    "precision = precision_score(y_test, y_pred)\n",
    "recall = recall_score(y_test, y_pred)\n",
    "f1 = f1_score(y_test, y_pred)\n",
    "auc = roc_auc_score(y_test, y_pred)\n",
    "\n",
    "# Print the evaluation metrics\n",
    "print(\"Decision Tree Classifier Metrics:\")\n",
    "print(\"Accuracy:\", accuracy)\n",
    "print(\"Precision:\", precision)\n",
    "print(\"Recall:\", recall)\n",
    "print(\"F1 Score:\", f1)\n",
    "print(\"AUC:\", auc)\n",
    "\n",
    "# Classification report\n",
    "print(\"\\nClassification Report:\")\n",
    "print(classification_report(y_test, y_pred))\n",
    "\n",
    "mse = mean_squared_error(y_test, y_pred)\n",
    "r2_sc = r2_score(y_test, y_pred)\n",
    "\n",
    "print(\"\\nMean Squared Error:\", mse)\n",
    "print(\"R-squared Score:\", r2_sc)"
   ]
  },
  {
   "cell_type": "markdown",
   "metadata": {},
   "source": [
    "# Random Forest"
   ]
  },
  {
   "cell_type": "code",
   "execution_count": 7,
   "metadata": {},
   "outputs": [
    {
     "name": "stdout",
     "output_type": "stream",
     "text": [
      "Random Forest Classifier Metrics:\n",
      "Accuracy: 0.95252678390944\n",
      "Precision: 0.9986281131279021\n",
      "Recall: 0.8906981669294303\n",
      "F1 Score: 0.9415803286028781\n",
      "AUC: 0.9448884417553801\n",
      "\n",
      "Classification Report:\n",
      "              precision    recall  f1-score   support\n",
      "\n",
      "           0       0.92      1.00      0.96     56443\n",
      "           1       1.00      0.89      0.94     42497\n",
      "\n",
      "    accuracy                           0.95     98940\n",
      "   macro avg       0.96      0.94      0.95     98940\n",
      "weighted avg       0.96      0.95      0.95     98940\n",
      "\n",
      "\n",
      "Mean Squared Error: 0.04747321609055993\n",
      "R-squared Score: 0.806257854654522\n"
     ]
    }
   ],
   "source": [
    "# Create a Random Forest classifier\n",
    "rf_classifier = RandomForestClassifier()\n",
    "\n",
    "# Train the classifier on the training data\n",
    "rf_classifier.fit(X_train, y_train)\n",
    "\n",
    "# Predict on the testing data\n",
    "y_pred = rf_classifier.predict(X_test)\n",
    "\n",
    "# Calculate the accuracy of the model\n",
    "accuracy = accuracy_score(y_test, y_pred)\n",
    "precision = precision_score(y_test, y_pred)\n",
    "recall = recall_score(y_test, y_pred)\n",
    "f1 = f1_score(y_test, y_pred)\n",
    "auc = roc_auc_score(y_test, y_pred)\n",
    "\n",
    "# Print the evaluation metrics\n",
    "print(\"Random Forest Classifier Metrics:\")\n",
    "print(\"Accuracy:\", accuracy)\n",
    "print(\"Precision:\", precision)\n",
    "print(\"Recall:\", recall)\n",
    "print(\"F1 Score:\", f1)\n",
    "print(\"AUC:\", auc)\n",
    "\n",
    "# Classification report\n",
    "print(\"\\nClassification Report:\")\n",
    "print(classification_report(y_test, y_pred))\n",
    "\n",
    "mse = mean_squared_error(y_test, y_pred)\n",
    "r2_sc = r2_score(y_test, y_pred)\n",
    "\n",
    "print(\"\\nMean Squared Error:\", mse)\n",
    "print(\"R-squared Score:\", r2_sc)"
   ]
  },
  {
   "cell_type": "markdown",
   "metadata": {},
   "source": [
    "# Naive Bayes"
   ]
  },
  {
   "cell_type": "code",
   "execution_count": 12,
   "metadata": {},
   "outputs": [
    {
     "name": "stdout",
     "output_type": "stream",
     "text": [
      "Naive Bayes Classifier Metrics:\n",
      "Accuracy: 0.514038811400849\n",
      "Precision: 0.46546349669726134\n",
      "Recall: 0.8854507376991317\n",
      "F1 Score: 0.6101719650718751\n",
      "AUC: 0.5599232498977029\n",
      "\n",
      "Classification Report:\n",
      "              precision    recall  f1-score   support\n",
      "\n",
      "           0       0.73      0.23      0.35     56443\n",
      "           1       0.47      0.89      0.61     42497\n",
      "\n",
      "    accuracy                           0.51     98940\n",
      "   macro avg       0.60      0.56      0.48     98940\n",
      "weighted avg       0.62      0.51      0.46     98940\n",
      "\n",
      "\n",
      "Mean Squared Error: 0.485961188599151\n",
      "R-squared Score: -0.9832480498948102\n"
     ]
    }
   ],
   "source": [
    "# Create a Gaussian Naive Bayes classifier\n",
    "nb_classifier = GaussianNB()\n",
    "\n",
    "# Train the classifier on the training data\n",
    "nb_classifier.fit(X_train, y_train)\n",
    "\n",
    "# Predict on the testing data\n",
    "y_pred = nb_classifier.predict(X_test)\n",
    "\n",
    "# Calculate the accuracy of the model\n",
    "accuracy = accuracy_score(y_test, y_pred)\n",
    "precision = precision_score(y_test, y_pred)\n",
    "recall = recall_score(y_test, y_pred)\n",
    "f1 = f1_score(y_test, y_pred)\n",
    "auc = roc_auc_score(y_test, y_pred)\n",
    "\n",
    "# Print the evaluation metrics\n",
    "print(\"Naive Bayes Classifier Metrics:\")\n",
    "print(\"Accuracy:\", accuracy)\n",
    "print(\"Precision:\", precision)\n",
    "print(\"Recall:\", recall)\n",
    "print(\"F1 Score:\", f1)\n",
    "print(\"AUC:\", auc)\n",
    "\n",
    "# Classification report\n",
    "print(\"\\nClassification Report:\")\n",
    "print(classification_report(y_test, y_pred))\n",
    "\n",
    "mse = mean_squared_error(y_test, y_pred)\n",
    "r2_sc = r2_score(y_test, y_pred)\n",
    "\n",
    "print(\"\\nMean Squared Error:\", mse)\n",
    "print(\"R-squared Score:\", r2_sc)\n"
   ]
  },
  {
   "cell_type": "markdown",
   "metadata": {},
   "source": [
    "# Bayesian Networks"
   ]
  },
  {
   "cell_type": "code",
   "execution_count": 17,
   "metadata": {},
   "outputs": [
    {
     "name": "stderr",
     "output_type": "stream",
     "text": [
      "  0%|          | 0/1000000 [00:00<?, ?it/s]"
     ]
    },
    {
     "ename": "",
     "evalue": "",
     "output_type": "error",
     "traceback": [
      "\u001b[1;31mThe Kernel crashed while executing code in the current cell or a previous cell. \n",
      "\u001b[1;31mPlease review the code in the cell(s) to identify a possible cause of the failure. \n",
      "\u001b[1;31mClick <a href='https://aka.ms/vscodeJupyterKernelCrash'>here</a> for more info. \n",
      "\u001b[1;31mView Jupyter <a href='command:jupyter.viewOutput'>log</a> for further details."
     ]
    }
   ],
   "source": [
    "import numpy as np\n",
    "from pomegranate.bayesian_network import BayesianNetwork\n",
    "from pgmpy.estimators import HillClimbSearch, BicScore\n",
    "from pgmpy.models import BayesianModel\n",
    "from pgmpy.estimators import MaximumLikelihoodEstimator\n",
    "\n",
    "# Convert X_train and y_train to pandas DataFrames\n",
    "X_train_df = pd.DataFrame(X_train)\n",
    "y_train_df = pd.DataFrame(y_train, columns=['label'])\n",
    "\n",
    "# Combine X_train_df and y_train_df into a single DataFrame for model training\n",
    "train_data = pd.concat([X_train_df, y_train_df], axis=1)\n",
    "\n",
    "# Use Hill Climb Search to find the best model structure\n",
    "hc = HillClimbSearch(train_data)\n",
    "\n",
    "# Create a BicScore instance\n",
    "bic = BicScore(train_data)\n",
    "\n",
    "# Estimate the best model structure\n",
    "best_model_structure = hc.estimate(scoring_method=bic)\n",
    "\n",
    "# Create a Bayesian Model with the best structure\n",
    "model = BayesianModel(best_model_structure.edges())\n",
    "\n",
    "# Fit the model to the data\n",
    "model.fit(train_data, estimator=MaximumLikelihoodEstimator)\n",
    "\n",
    "# Now you can use the model for inference, prediction, etc.\n",
    "\n",
    "# Perform inference (e.g., predicting on test data)\n",
    "y_pred = model.predict(X_test)\n",
    "\n",
    "# Now you can proceed with calculating evaluation metrics, printing results, etc.\n",
    "\n",
    "# Calculate the evaluation metrics\n",
    "accuracy = accuracy_score(y_test, y_pred)\n",
    "precision = precision_score(y_test, y_pred)\n",
    "recall = recall_score(y_test, y_pred)\n",
    "f1 = f1_score(y_test, y_pred)\n",
    "auc = roc_auc_score(y_test, y_pred)\n",
    "\n",
    "# Print the evaluation metrics\n",
    "print(\"Naive Bayes Classifier Metrics:\")\n",
    "print(\"Accuracy:\", accuracy)\n",
    "print(\"Precision:\", precision)\n",
    "print(\"Recall:\", recall)\n",
    "print(\"F1 Score:\", f1)\n",
    "print(\"AUC:\", auc)\n",
    "\n",
    "# Classification report\n",
    "print(\"\\nClassification Report:\")\n",
    "print(classification_report(y_test, y_pred))"
   ]
  },
  {
   "cell_type": "markdown",
   "metadata": {},
   "source": [
    "# Neural Networks"
   ]
  },
  {
   "cell_type": "code",
   "execution_count": 18,
   "metadata": {},
   "outputs": [
    {
     "name": "stderr",
     "output_type": "stream",
     "text": [
      "/home/rustom/anaconda3/lib/python3.11/site-packages/sklearn/neural_network/_multilayer_perceptron.py:686: ConvergenceWarning: Stochastic Optimizer: Maximum iterations (200) reached and the optimization hasn't converged yet.\n",
      "  warnings.warn(\n"
     ]
    },
    {
     "name": "stdout",
     "output_type": "stream",
     "text": [
      "Neural Network Classifier Metrics:\n",
      "Accuracy: 0.8877501516070345\n",
      "Precision: 0.9064191201222196\n",
      "Recall: 0.823705202720192\n",
      "F1 Score: 0.8630849647418511\n",
      "AUC: 0.8798380025613078\n",
      "\n",
      "Classification Report:\n",
      "              precision    recall  f1-score   support\n",
      "\n",
      "           0       0.88      0.94      0.90     56443\n",
      "           1       0.91      0.82      0.86     42497\n",
      "\n",
      "    accuracy                           0.89     98940\n",
      "   macro avg       0.89      0.88      0.88     98940\n",
      "weighted avg       0.89      0.89      0.89     98940\n",
      "\n",
      "\n",
      "Mean Squared Error: 0.11224984839296544\n",
      "R-squared Score: 0.541899027846098\n"
     ]
    }
   ],
   "source": [
    "from sklearn.neural_network import MLPClassifier\n",
    "\n",
    "# Create a Multilayer Perceptron classifier\n",
    "mlp_classifier = MLPClassifier()\n",
    "\n",
    "# Train the classifier on the training data\n",
    "mlp_classifier.fit(X_train, y_train)\n",
    "\n",
    "# Predict on the testing data\n",
    "y_pred = mlp_classifier.predict(X_test)\n",
    "\n",
    "# Calculate the accuracy of the model\n",
    "accuracy = accuracy_score(y_test, y_pred)\n",
    "precision = precision_score(y_test, y_pred)\n",
    "recall = recall_score(y_test, y_pred)\n",
    "f1 = f1_score(y_test, y_pred)\n",
    "auc = roc_auc_score(y_test, y_pred)\n",
    "\n",
    "# Print the evaluation metrics\n",
    "print(\"Neural Network Classifier Metrics:\")\n",
    "print(\"Accuracy:\", accuracy)\n",
    "print(\"Precision:\", precision)\n",
    "print(\"Recall:\", recall)\n",
    "print(\"F1 Score:\", f1)\n",
    "print(\"AUC:\", auc)\n",
    "\n",
    "# Classification report\n",
    "print(\"\\nClassification Report:\")\n",
    "print(classification_report(y_test, y_pred))\n",
    "\n",
    "mse = mean_squared_error(y_test, y_pred)\n",
    "r2_sc = r2_score(y_test, y_pred)\n",
    "\n",
    "print(\"\\nMean Squared Error:\", mse)\n",
    "print(\"R-squared Score:\", r2_sc)\n"
   ]
  },
  {
   "cell_type": "markdown",
   "metadata": {},
   "source": [
    "# Convolutional Neural Networks"
   ]
  },
  {
   "cell_type": "code",
   "execution_count": null,
   "metadata": {},
   "outputs": [],
   "source": []
  },
  {
   "cell_type": "markdown",
   "metadata": {},
   "source": [
    "# Support Vector Machines"
   ]
  },
  {
   "cell_type": "code",
   "execution_count": 8,
   "metadata": {},
   "outputs": [
    {
     "name": "stdout",
     "output_type": "stream",
     "text": [
      "Train Accuracy: 0.7825854052961391\n",
      "Test Accuracy: 0.7801596927430766\n",
      "\n",
      "Classification Report on Test Data:\n",
      "              precision    recall  f1-score   support\n",
      "\n",
      "           0       0.77      0.87      0.82     56443\n",
      "           1       0.80      0.66      0.72     42497\n",
      "\n",
      "    accuracy                           0.78     98940\n",
      "   macro avg       0.78      0.76      0.77     98940\n",
      "weighted avg       0.78      0.78      0.78     98940\n",
      "\n"
     ]
    }
   ],
   "source": [
    "svm_model = SVC(kernel='rbf', C=1.0, gamma='auto', random_state=42, n_jobs=3)\n",
    "svm_model.fit(X_train, y_train)\n",
    "\n",
    "# Predictions\n",
    "y_pred_train = svm_model.predict(X_train)\n",
    "y_pred_test = svm_model.predict(X_test)\n",
    "\n",
    "# Evaluate the model\n",
    "train_accuracy = accuracy_score(y_train, y_pred_train)\n",
    "test_accuracy = accuracy_score(y_test, y_pred_test)\n",
    "\n",
    "print(\"Train Accuracy:\", train_accuracy)\n",
    "print(\"Test Accuracy:\", test_accuracy)\n",
    "\n",
    "# Classification report\n",
    "print(\"\\nClassification Report on Test Data:\")\n",
    "print(classification_report(y_test, y_pred_test))"
   ]
  },
  {
   "cell_type": "code",
   "execution_count": 18,
   "metadata": {},
   "outputs": [
    {
     "name": "stdout",
     "output_type": "stream",
     "text": [
      "Unique values in y_train: [0 1]\n",
      "Unique values in y_test: [0 1]\n"
     ]
    },
    {
     "ename": "RuntimeError",
     "evalue": "exception occurred! file=/opt/conda/conda-bld/work/cpp/src/svm/svc_impl.cuh line=74: Only binary classification is implemented at the moment\nObtained 64 stack frames\n#0 in /home/rustom/anaconda3/envs/rapids-24.02/lib/python3.10/site-packages/cuml/internals/../../../../libcuml++.so(_ZN4raft9exception18collect_call_stackEv+0x84) [0x7fc2b7f9a734]\n#1 in /home/rustom/anaconda3/envs/rapids-24.02/lib/python3.10/site-packages/cuml/internals/../../../../libcuml++.so(_ZN2ML3SVM7svcFitXIdNSt12experimental6mdspanIdNS2_7extentsIiJLm18446744073709551615ELm18446744073709551615EEEENS2_13layout_strideEN4raft20host_device_accessorINS2_16default_accessorIdEELNS7_11memory_typeE2EEEEEEEvRKNS7_8handle_tET0_iiPT_RKNS0_12SvmParameterERNS7_8distance7kernels12KernelParamsERNS0_8SvmModelISI_EEPKSI_+0x457) [0x7fc2b8b57397]\n#2 in /home/rustom/anaconda3/envs/rapids-24.02/lib/python3.10/site-packages/cuml/internals/../../../../libcuml++.so(_ZN2ML3SVM6svcFitIdEEvRKN4raft8handle_tEPT_iiS7_RKNS0_12SvmParameterERNS2_8distance7kernels12KernelParamsERNS0_8SvmModelIS6_EEPKS6_+0x4b) [0x7fc2b8b5793b]\n#3 in /home/rustom/anaconda3/envs/rapids-24.02/lib/python3.10/site-packages/cuml/svm/svc.cpython-310-x86_64-linux-gnu.so(+0x49e42) [0x7fc285dede42]\n#4 in /home/rustom/anaconda3/envs/rapids-24.02/bin/python(_PyEval_EvalFrameDefault+0x2d83) [0x557a813cd2b3]\n#5 in /home/rustom/anaconda3/envs/rapids-24.02/bin/python(+0x150582) [0x557a813e6582]\n#6 in /home/rustom/anaconda3/envs/rapids-24.02/bin/python(_PyEval_EvalFrameDefault+0x4c12) [0x557a813cf142]\n#7 in /home/rustom/anaconda3/envs/rapids-24.02/bin/python(+0x1d7c60) [0x557a8146dc60]\n#8 in /home/rustom/anaconda3/envs/rapids-24.02/bin/python(PyEval_EvalCode+0x87) [0x557a8146dba7]\n#9 in /home/rustom/anaconda3/envs/rapids-24.02/bin/python(+0x1dedaa) [0x557a81474daa]\n#10 in /home/rustom/anaconda3/envs/rapids-24.02/bin/python(+0x144bf3) [0x557a813dabf3]\n#11 in /home/rustom/anaconda3/envs/rapids-24.02/bin/python(_PyEval_EvalFrameDefault+0x320) [0x557a813ca850]\n#12 in /home/rustom/anaconda3/envs/rapids-24.02/bin/python(+0x1e1384) [0x557a81477384]\n#13 in /home/rustom/anaconda3/envs/rapids-24.02/bin/python(_PyEval_EvalFrameDefault+0x1bbd) [0x557a813cc0ed]\n#14 in /home/rustom/anaconda3/envs/rapids-24.02/bin/python(+0x1e1384) [0x557a81477384]\n#15 in /home/rustom/anaconda3/envs/rapids-24.02/bin/python(_PyEval_EvalFrameDefault+0x1bbd) [0x557a813cc0ed]\n#16 in /home/rustom/anaconda3/envs/rapids-24.02/bin/python(+0x1e1384) [0x557a81477384]\n#17 in /home/rustom/anaconda3/envs/rapids-24.02/bin/python(+0x1f5a37) [0x557a8148ba37]\n#18 in /home/rustom/anaconda3/envs/rapids-24.02/bin/python(+0x14f53d) [0x557a813e553d]\n#19 in /home/rustom/anaconda3/envs/rapids-24.02/bin/python(_PyEval_EvalFrameDefault+0x72c) [0x557a813cac5c]\n#20 in /home/rustom/anaconda3/envs/rapids-24.02/bin/python(_PyFunction_Vectorcall+0x6c) [0x557a813daa2c]\n#21 in /home/rustom/anaconda3/envs/rapids-24.02/bin/python(_PyEval_EvalFrameDefault+0x320) [0x557a813ca850]\n#22 in /home/rustom/anaconda3/envs/rapids-24.02/bin/python(_PyFunction_Vectorcall+0x6c) [0x557a813daa2c]\n#23 in /home/rustom/anaconda3/envs/rapids-24.02/bin/python(_PyEval_EvalFrameDefault+0x72c) [0x557a813cac5c]\n#24 in /home/rustom/anaconda3/envs/rapids-24.02/bin/python(+0x150582) [0x557a813e6582]\n#25 in /home/rustom/anaconda3/envs/rapids-24.02/bin/python(PyObject_Call+0xbc) [0x557a813e6f1c]\n#26 in /home/rustom/anaconda3/envs/rapids-24.02/bin/python(_PyEval_EvalFrameDefault+0x2d83) [0x557a813cd2b3]\n#27 in /home/rustom/anaconda3/envs/rapids-24.02/bin/python(+0x150582) [0x557a813e6582]\n#28 in /home/rustom/anaconda3/envs/rapids-24.02/bin/python(_PyEval_EvalFrameDefault+0x13ca) [0x557a813cb8fa]\n#29 in /home/rustom/anaconda3/envs/rapids-24.02/bin/python(+0x1e1384) [0x557a81477384]\n#30 in /home/rustom/anaconda3/envs/rapids-24.02/bin/python(_PyEval_EvalFrameDefault+0x1bbd) [0x557a813cc0ed]\n#31 in /home/rustom/anaconda3/envs/rapids-24.02/bin/python(+0x1e1384) [0x557a81477384]\n#32 in /home/rustom/anaconda3/envs/rapids-24.02/bin/python(_PyEval_EvalFrameDefault+0x1bbd) [0x557a813cc0ed]\n#33 in /home/rustom/anaconda3/envs/rapids-24.02/bin/python(+0x1e1384) [0x557a81477384]\n#34 in /home/rustom/anaconda3/envs/rapids-24.02/bin/python(_PyEval_EvalFrameDefault+0x1bbd) [0x557a813cc0ed]\n#35 in /home/rustom/anaconda3/envs/rapids-24.02/bin/python(+0x1e1384) [0x557a81477384]\n#36 in /home/rustom/anaconda3/envs/rapids-24.02/bin/python(_PyEval_EvalFrameDefault+0x1bbd) [0x557a813cc0ed]\n#37 in /home/rustom/anaconda3/envs/rapids-24.02/bin/python(+0x1e1384) [0x557a81477384]\n#38 in /home/rustom/anaconda3/envs/rapids-24.02/bin/python(_PyEval_EvalFrameDefault+0x1bbd) [0x557a813cc0ed]\n#39 in /home/rustom/anaconda3/envs/rapids-24.02/bin/python(+0x1e1384) [0x557a81477384]\n#40 in /home/rustom/anaconda3/envs/rapids-24.02/lib/python3.10/lib-dynload/_asyncio.cpython-310-x86_64-linux-gnu.so(+0x7bf6) [0x7fc3c9147bf6]\n#41 in /home/rustom/anaconda3/envs/rapids-24.02/bin/python(+0x143e8a) [0x557a813d9e8a]\n#42 in /home/rustom/anaconda3/envs/rapids-24.02/bin/python(+0x25f60c) [0x557a814f560c]\n#43 in /home/rustom/anaconda3/envs/rapids-24.02/bin/python(+0xfdd90) [0x557a81393d90]\n#44 in /home/rustom/anaconda3/envs/rapids-24.02/bin/python(+0x13c2a3) [0x557a813d22a3]\n#45 in /home/rustom/anaconda3/envs/rapids-24.02/bin/python(_PyEval_EvalFrameDefault+0x5cd5) [0x557a813d0205]\n#46 in /home/rustom/anaconda3/envs/rapids-24.02/bin/python(_PyFunction_Vectorcall+0x6c) [0x557a813daa2c]\n#47 in /home/rustom/anaconda3/envs/rapids-24.02/bin/python(_PyEval_EvalFrameDefault+0x72c) [0x557a813cac5c]\n#48 in /home/rustom/anaconda3/envs/rapids-24.02/bin/python(_PyFunction_Vectorcall+0x6c) [0x557a813daa2c]\n#49 in /home/rustom/anaconda3/envs/rapids-24.02/bin/python(_PyEval_EvalFrameDefault+0x72c) [0x557a813cac5c]\n#50 in /home/rustom/anaconda3/envs/rapids-24.02/bin/python(_PyFunction_Vectorcall+0x6c) [0x557a813daa2c]\n#51 in /home/rustom/anaconda3/envs/rapids-24.02/bin/python(_PyEval_EvalFrameDefault+0x72c) [0x557a813cac5c]\n#52 in /home/rustom/anaconda3/envs/rapids-24.02/bin/python(_PyFunction_Vectorcall+0x6c) [0x557a813daa2c]\n#53 in /home/rustom/anaconda3/envs/rapids-24.02/bin/python(_PyEval_EvalFrameDefault+0x72c) [0x557a813cac5c]\n#54 in /home/rustom/anaconda3/envs/rapids-24.02/bin/python(_PyFunction_Vectorcall+0x6c) [0x557a813daa2c]\n#55 in /home/rustom/anaconda3/envs/rapids-24.02/bin/python(_PyEval_EvalFrameDefault+0x72c) [0x557a813cac5c]\n#56 in /home/rustom/anaconda3/envs/rapids-24.02/bin/python(+0x150582) [0x557a813e6582]\n#57 in /home/rustom/anaconda3/envs/rapids-24.02/bin/python(_PyEval_EvalFrameDefault+0x4c12) [0x557a813cf142]\n#58 in /home/rustom/anaconda3/envs/rapids-24.02/bin/python(+0x1d7c60) [0x557a8146dc60]\n#59 in /home/rustom/anaconda3/envs/rapids-24.02/bin/python(PyEval_EvalCode+0x87) [0x557a8146dba7]\n#60 in /home/rustom/anaconda3/envs/rapids-24.02/bin/python(+0x1dedaa) [0x557a81474daa]\n#61 in /home/rustom/anaconda3/envs/rapids-24.02/bin/python(+0x144bf3) [0x557a813dabf3]\n#62 in /home/rustom/anaconda3/envs/rapids-24.02/bin/python(_PyEval_EvalFrameDefault+0x320) [0x557a813ca850]\n#63 in /home/rustom/anaconda3/envs/rapids-24.02/bin/python(_PyFunction_Vectorcall+0x6c) [0x557a813daa2c]\n",
     "output_type": "error",
     "traceback": [
      "\u001b[0;31m---------------------------------------------------------------------------\u001b[0m",
      "\u001b[0;31mRuntimeError\u001b[0m                              Traceback (most recent call last)",
      "Cell \u001b[0;32mIn[18], line 15\u001b[0m\n\u001b[1;32m     13\u001b[0m \u001b[38;5;28mprint\u001b[39m(\u001b[38;5;124m\"\u001b[39m\u001b[38;5;124mUnique values in y_test:\u001b[39m\u001b[38;5;124m\"\u001b[39m, np\u001b[38;5;241m.\u001b[39munique(y_test))\n\u001b[1;32m     14\u001b[0m svm \u001b[38;5;241m=\u001b[39m SVC()\n\u001b[0;32m---> 15\u001b[0m \u001b[43msvm\u001b[49m\u001b[38;5;241;43m.\u001b[39;49m\u001b[43mfit\u001b[49m\u001b[43m(\u001b[49m\u001b[43mX_train\u001b[49m\u001b[43m,\u001b[49m\u001b[43m \u001b[49m\u001b[43my_train\u001b[49m\u001b[43m)\u001b[49m\n\u001b[1;32m     17\u001b[0m \u001b[38;5;66;03m# Predict on the test set\u001b[39;00m\n\u001b[1;32m     18\u001b[0m y_pred \u001b[38;5;241m=\u001b[39m svm\u001b[38;5;241m.\u001b[39mpredict(X_test)\n",
      "File \u001b[0;32m~/anaconda3/envs/rapids-24.02/lib/python3.10/site-packages/cuml/internals/api_decorators.py:188\u001b[0m, in \u001b[0;36m_make_decorator_function.<locals>.decorator_function.<locals>.decorator_closure.<locals>.wrapper\u001b[0;34m(*args, **kwargs)\u001b[0m\n\u001b[1;32m    185\u001b[0m     set_api_output_dtype(output_dtype)\n\u001b[1;32m    187\u001b[0m \u001b[38;5;28;01mif\u001b[39;00m process_return:\n\u001b[0;32m--> 188\u001b[0m     ret \u001b[38;5;241m=\u001b[39m \u001b[43mfunc\u001b[49m\u001b[43m(\u001b[49m\u001b[38;5;241;43m*\u001b[39;49m\u001b[43margs\u001b[49m\u001b[43m,\u001b[49m\u001b[43m \u001b[49m\u001b[38;5;241;43m*\u001b[39;49m\u001b[38;5;241;43m*\u001b[39;49m\u001b[43mkwargs\u001b[49m\u001b[43m)\u001b[49m\n\u001b[1;32m    189\u001b[0m \u001b[38;5;28;01melse\u001b[39;00m:\n\u001b[1;32m    190\u001b[0m     \u001b[38;5;28;01mreturn\u001b[39;00m func(\u001b[38;5;241m*\u001b[39margs, \u001b[38;5;241m*\u001b[39m\u001b[38;5;241m*\u001b[39mkwargs)\n",
      "File \u001b[0;32msvc.pyx:563\u001b[0m, in \u001b[0;36mcuml.svm.svc.SVC.fit\u001b[0;34m()\u001b[0m\n",
      "File \u001b[0;32msvc.pyx:565\u001b[0m, in \u001b[0;36mcuml.svm.svc.SVC.fit\u001b[0;34m()\u001b[0m\n",
      "\u001b[0;31mRuntimeError\u001b[0m: exception occurred! file=/opt/conda/conda-bld/work/cpp/src/svm/svc_impl.cuh line=74: Only binary classification is implemented at the moment\nObtained 64 stack frames\n#0 in /home/rustom/anaconda3/envs/rapids-24.02/lib/python3.10/site-packages/cuml/internals/../../../../libcuml++.so(_ZN4raft9exception18collect_call_stackEv+0x84) [0x7fc2b7f9a734]\n#1 in /home/rustom/anaconda3/envs/rapids-24.02/lib/python3.10/site-packages/cuml/internals/../../../../libcuml++.so(_ZN2ML3SVM7svcFitXIdNSt12experimental6mdspanIdNS2_7extentsIiJLm18446744073709551615ELm18446744073709551615EEEENS2_13layout_strideEN4raft20host_device_accessorINS2_16default_accessorIdEELNS7_11memory_typeE2EEEEEEEvRKNS7_8handle_tET0_iiPT_RKNS0_12SvmParameterERNS7_8distance7kernels12KernelParamsERNS0_8SvmModelISI_EEPKSI_+0x457) [0x7fc2b8b57397]\n#2 in /home/rustom/anaconda3/envs/rapids-24.02/lib/python3.10/site-packages/cuml/internals/../../../../libcuml++.so(_ZN2ML3SVM6svcFitIdEEvRKN4raft8handle_tEPT_iiS7_RKNS0_12SvmParameterERNS2_8distance7kernels12KernelParamsERNS0_8SvmModelIS6_EEPKS6_+0x4b) [0x7fc2b8b5793b]\n#3 in /home/rustom/anaconda3/envs/rapids-24.02/lib/python3.10/site-packages/cuml/svm/svc.cpython-310-x86_64-linux-gnu.so(+0x49e42) [0x7fc285dede42]\n#4 in /home/rustom/anaconda3/envs/rapids-24.02/bin/python(_PyEval_EvalFrameDefault+0x2d83) [0x557a813cd2b3]\n#5 in /home/rustom/anaconda3/envs/rapids-24.02/bin/python(+0x150582) [0x557a813e6582]\n#6 in /home/rustom/anaconda3/envs/rapids-24.02/bin/python(_PyEval_EvalFrameDefault+0x4c12) [0x557a813cf142]\n#7 in /home/rustom/anaconda3/envs/rapids-24.02/bin/python(+0x1d7c60) [0x557a8146dc60]\n#8 in /home/rustom/anaconda3/envs/rapids-24.02/bin/python(PyEval_EvalCode+0x87) [0x557a8146dba7]\n#9 in /home/rustom/anaconda3/envs/rapids-24.02/bin/python(+0x1dedaa) [0x557a81474daa]\n#10 in /home/rustom/anaconda3/envs/rapids-24.02/bin/python(+0x144bf3) [0x557a813dabf3]\n#11 in /home/rustom/anaconda3/envs/rapids-24.02/bin/python(_PyEval_EvalFrameDefault+0x320) [0x557a813ca850]\n#12 in /home/rustom/anaconda3/envs/rapids-24.02/bin/python(+0x1e1384) [0x557a81477384]\n#13 in /home/rustom/anaconda3/envs/rapids-24.02/bin/python(_PyEval_EvalFrameDefault+0x1bbd) [0x557a813cc0ed]\n#14 in /home/rustom/anaconda3/envs/rapids-24.02/bin/python(+0x1e1384) [0x557a81477384]\n#15 in /home/rustom/anaconda3/envs/rapids-24.02/bin/python(_PyEval_EvalFrameDefault+0x1bbd) [0x557a813cc0ed]\n#16 in /home/rustom/anaconda3/envs/rapids-24.02/bin/python(+0x1e1384) [0x557a81477384]\n#17 in /home/rustom/anaconda3/envs/rapids-24.02/bin/python(+0x1f5a37) [0x557a8148ba37]\n#18 in /home/rustom/anaconda3/envs/rapids-24.02/bin/python(+0x14f53d) [0x557a813e553d]\n#19 in /home/rustom/anaconda3/envs/rapids-24.02/bin/python(_PyEval_EvalFrameDefault+0x72c) [0x557a813cac5c]\n#20 in /home/rustom/anaconda3/envs/rapids-24.02/bin/python(_PyFunction_Vectorcall+0x6c) [0x557a813daa2c]\n#21 in /home/rustom/anaconda3/envs/rapids-24.02/bin/python(_PyEval_EvalFrameDefault+0x320) [0x557a813ca850]\n#22 in /home/rustom/anaconda3/envs/rapids-24.02/bin/python(_PyFunction_Vectorcall+0x6c) [0x557a813daa2c]\n#23 in /home/rustom/anaconda3/envs/rapids-24.02/bin/python(_PyEval_EvalFrameDefault+0x72c) [0x557a813cac5c]\n#24 in /home/rustom/anaconda3/envs/rapids-24.02/bin/python(+0x150582) [0x557a813e6582]\n#25 in /home/rustom/anaconda3/envs/rapids-24.02/bin/python(PyObject_Call+0xbc) [0x557a813e6f1c]\n#26 in /home/rustom/anaconda3/envs/rapids-24.02/bin/python(_PyEval_EvalFrameDefault+0x2d83) [0x557a813cd2b3]\n#27 in /home/rustom/anaconda3/envs/rapids-24.02/bin/python(+0x150582) [0x557a813e6582]\n#28 in /home/rustom/anaconda3/envs/rapids-24.02/bin/python(_PyEval_EvalFrameDefault+0x13ca) [0x557a813cb8fa]\n#29 in /home/rustom/anaconda3/envs/rapids-24.02/bin/python(+0x1e1384) [0x557a81477384]\n#30 in /home/rustom/anaconda3/envs/rapids-24.02/bin/python(_PyEval_EvalFrameDefault+0x1bbd) [0x557a813cc0ed]\n#31 in /home/rustom/anaconda3/envs/rapids-24.02/bin/python(+0x1e1384) [0x557a81477384]\n#32 in /home/rustom/anaconda3/envs/rapids-24.02/bin/python(_PyEval_EvalFrameDefault+0x1bbd) [0x557a813cc0ed]\n#33 in /home/rustom/anaconda3/envs/rapids-24.02/bin/python(+0x1e1384) [0x557a81477384]\n#34 in /home/rustom/anaconda3/envs/rapids-24.02/bin/python(_PyEval_EvalFrameDefault+0x1bbd) [0x557a813cc0ed]\n#35 in /home/rustom/anaconda3/envs/rapids-24.02/bin/python(+0x1e1384) [0x557a81477384]\n#36 in /home/rustom/anaconda3/envs/rapids-24.02/bin/python(_PyEval_EvalFrameDefault+0x1bbd) [0x557a813cc0ed]\n#37 in /home/rustom/anaconda3/envs/rapids-24.02/bin/python(+0x1e1384) [0x557a81477384]\n#38 in /home/rustom/anaconda3/envs/rapids-24.02/bin/python(_PyEval_EvalFrameDefault+0x1bbd) [0x557a813cc0ed]\n#39 in /home/rustom/anaconda3/envs/rapids-24.02/bin/python(+0x1e1384) [0x557a81477384]\n#40 in /home/rustom/anaconda3/envs/rapids-24.02/lib/python3.10/lib-dynload/_asyncio.cpython-310-x86_64-linux-gnu.so(+0x7bf6) [0x7fc3c9147bf6]\n#41 in /home/rustom/anaconda3/envs/rapids-24.02/bin/python(+0x143e8a) [0x557a813d9e8a]\n#42 in /home/rustom/anaconda3/envs/rapids-24.02/bin/python(+0x25f60c) [0x557a814f560c]\n#43 in /home/rustom/anaconda3/envs/rapids-24.02/bin/python(+0xfdd90) [0x557a81393d90]\n#44 in /home/rustom/anaconda3/envs/rapids-24.02/bin/python(+0x13c2a3) [0x557a813d22a3]\n#45 in /home/rustom/anaconda3/envs/rapids-24.02/bin/python(_PyEval_EvalFrameDefault+0x5cd5) [0x557a813d0205]\n#46 in /home/rustom/anaconda3/envs/rapids-24.02/bin/python(_PyFunction_Vectorcall+0x6c) [0x557a813daa2c]\n#47 in /home/rustom/anaconda3/envs/rapids-24.02/bin/python(_PyEval_EvalFrameDefault+0x72c) [0x557a813cac5c]\n#48 in /home/rustom/anaconda3/envs/rapids-24.02/bin/python(_PyFunction_Vectorcall+0x6c) [0x557a813daa2c]\n#49 in /home/rustom/anaconda3/envs/rapids-24.02/bin/python(_PyEval_EvalFrameDefault+0x72c) [0x557a813cac5c]\n#50 in /home/rustom/anaconda3/envs/rapids-24.02/bin/python(_PyFunction_Vectorcall+0x6c) [0x557a813daa2c]\n#51 in /home/rustom/anaconda3/envs/rapids-24.02/bin/python(_PyEval_EvalFrameDefault+0x72c) [0x557a813cac5c]\n#52 in /home/rustom/anaconda3/envs/rapids-24.02/bin/python(_PyFunction_Vectorcall+0x6c) [0x557a813daa2c]\n#53 in /home/rustom/anaconda3/envs/rapids-24.02/bin/python(_PyEval_EvalFrameDefault+0x72c) [0x557a813cac5c]\n#54 in /home/rustom/anaconda3/envs/rapids-24.02/bin/python(_PyFunction_Vectorcall+0x6c) [0x557a813daa2c]\n#55 in /home/rustom/anaconda3/envs/rapids-24.02/bin/python(_PyEval_EvalFrameDefault+0x72c) [0x557a813cac5c]\n#56 in /home/rustom/anaconda3/envs/rapids-24.02/bin/python(+0x150582) [0x557a813e6582]\n#57 in /home/rustom/anaconda3/envs/rapids-24.02/bin/python(_PyEval_EvalFrameDefault+0x4c12) [0x557a813cf142]\n#58 in /home/rustom/anaconda3/envs/rapids-24.02/bin/python(+0x1d7c60) [0x557a8146dc60]\n#59 in /home/rustom/anaconda3/envs/rapids-24.02/bin/python(PyEval_EvalCode+0x87) [0x557a8146dba7]\n#60 in /home/rustom/anaconda3/envs/rapids-24.02/bin/python(+0x1dedaa) [0x557a81474daa]\n#61 in /home/rustom/anaconda3/envs/rapids-24.02/bin/python(+0x144bf3) [0x557a813dabf3]\n#62 in /home/rustom/anaconda3/envs/rapids-24.02/bin/python(_PyEval_EvalFrameDefault+0x320) [0x557a813ca850]\n#63 in /home/rustom/anaconda3/envs/rapids-24.02/bin/python(_PyFunction_Vectorcall+0x6c) [0x557a813daa2c]\n"
     ]
    }
   ],
   "source": [
    "from cuml.svm import SVC\n",
    "from sklearn.metrics import accuracy_score, precision_score, recall_score, f1_score, roc_auc_score, classification_report\n",
    "from sklearn.preprocessing import LabelEncoder\n",
    "import numpy as np\n",
    "import cudf\n",
    "\n",
    "\n",
    "le = LabelEncoder()\n",
    "y_train = le.fit_transform(y_train)\n",
    "y_test = le.transform(y_test)\n",
    "# Initialize and train the SVM classifier on GPU\n",
    "print(\"Unique values in y_train:\", np.unique(y_train))\n",
    "print(\"Unique values in y_test:\", np.unique(y_test))\n",
    "svm = SVC()\n",
    "svm.fit(X_train, y_train)\n",
    "\n",
    "# Predict on the test set\n",
    "y_pred = svm.predict(X_test)\n",
    "\n",
    "# Calculate the evaluation metrics\n",
    "accuracy = accuracy_score(y_test, y_pred)\n",
    "precision = precision_score(y_test, y_pred)\n",
    "recall = recall_score(y_test, y_pred)\n",
    "f1 = f1_score(y_test, y_pred)\n",
    "auc = roc_auc_score(y_test, y_pred)\n",
    "\n",
    "# Print the evaluation metrics\n",
    "print(\"SVM Classifier Metrics:\")\n",
    "print(\"Accuracy:\", accuracy)\n",
    "print(\"Precision:\", precision)\n",
    "print(\"Recall:\", recall)\n",
    "print(\"F1 Score:\", f1)\n",
    "print(\"AUC:\", auc)\n",
    "\n",
    "# Classification report\n",
    "print(\"\\nClassification Report:\")\n",
    "print(classification_report(y_test, y_pred))"
   ]
  },
  {
   "cell_type": "code",
   "execution_count": 5,
   "metadata": {},
   "outputs": [
    {
     "ename": "RuntimeError",
     "evalue": "This program was not compiled for SM 61  \n: cudaErrorInvalidDevice: invalid device ordinal",
     "output_type": "error",
     "traceback": [
      "\u001b[0;31m---------------------------------------------------------------------------\u001b[0m",
      "\u001b[0;31mRuntimeError\u001b[0m                              Traceback (most recent call last)",
      "Cell \u001b[0;32mIn[5], line 11\u001b[0m\n\u001b[1;32m      8\u001b[0m data_pd \u001b[38;5;241m=\u001b[39m pd\u001b[38;5;241m.\u001b[39mread_csv(\u001b[38;5;124m\"\u001b[39m\u001b[38;5;124mProcessedData.csv\u001b[39m\u001b[38;5;124m\"\u001b[39m)\n\u001b[1;32m     10\u001b[0m \u001b[38;5;66;03m# Convert the pandas DataFrame to a cuDF DataFrame\u001b[39;00m\n\u001b[0;32m---> 11\u001b[0m data \u001b[38;5;241m=\u001b[39m \u001b[43mcudf\u001b[49m\u001b[38;5;241;43m.\u001b[39;49m\u001b[43mDataFrame\u001b[49m\u001b[38;5;241;43m.\u001b[39;49m\u001b[43mfrom_pandas\u001b[49m\u001b[43m(\u001b[49m\u001b[43mdata_pd\u001b[49m\u001b[43m)\u001b[49m\n\u001b[1;32m     13\u001b[0m \u001b[38;5;28mprint\u001b[39m(\u001b[38;5;124m\"\u001b[39m\u001b[38;5;124mShape of data:\u001b[39m\u001b[38;5;124m\"\u001b[39m, data\u001b[38;5;241m.\u001b[39mshape)\n\u001b[1;32m     15\u001b[0m \u001b[38;5;66;03m# Extract features and target variable\u001b[39;00m\n",
      "File \u001b[0;32m~/anaconda3/envs/rapids-24.02/lib/python3.10/site-packages/nvtx/nvtx.py:116\u001b[0m, in \u001b[0;36mannotate.__call__.<locals>.inner\u001b[0;34m(*args, **kwargs)\u001b[0m\n\u001b[1;32m    113\u001b[0m \u001b[38;5;129m@wraps\u001b[39m(func)\n\u001b[1;32m    114\u001b[0m \u001b[38;5;28;01mdef\u001b[39;00m \u001b[38;5;21minner\u001b[39m(\u001b[38;5;241m*\u001b[39margs, \u001b[38;5;241m*\u001b[39m\u001b[38;5;241m*\u001b[39mkwargs):\n\u001b[1;32m    115\u001b[0m     libnvtx_push_range(\u001b[38;5;28mself\u001b[39m\u001b[38;5;241m.\u001b[39mattributes, \u001b[38;5;28mself\u001b[39m\u001b[38;5;241m.\u001b[39mdomain\u001b[38;5;241m.\u001b[39mhandle)\n\u001b[0;32m--> 116\u001b[0m     result \u001b[38;5;241m=\u001b[39m \u001b[43mfunc\u001b[49m\u001b[43m(\u001b[49m\u001b[38;5;241;43m*\u001b[39;49m\u001b[43margs\u001b[49m\u001b[43m,\u001b[49m\u001b[43m \u001b[49m\u001b[38;5;241;43m*\u001b[39;49m\u001b[38;5;241;43m*\u001b[39;49m\u001b[43mkwargs\u001b[49m\u001b[43m)\u001b[49m\n\u001b[1;32m    117\u001b[0m     libnvtx_pop_range(\u001b[38;5;28mself\u001b[39m\u001b[38;5;241m.\u001b[39mdomain\u001b[38;5;241m.\u001b[39mhandle)\n\u001b[1;32m    118\u001b[0m     \u001b[38;5;28;01mreturn\u001b[39;00m result\n",
      "File \u001b[0;32m~/anaconda3/envs/rapids-24.02/lib/python3.10/site-packages/cudf/core/dataframe.py:5278\u001b[0m, in \u001b[0;36mDataFrame.from_pandas\u001b[0;34m(cls, dataframe, nan_as_null)\u001b[0m\n\u001b[1;32m   5275\u001b[0m \u001b[38;5;28;01mif\u001b[39;00m \u001b[38;5;129;01mnot\u001b[39;00m dataframe\u001b[38;5;241m.\u001b[39mcolumns\u001b[38;5;241m.\u001b[39mis_unique:\n\u001b[1;32m   5276\u001b[0m     \u001b[38;5;28;01mraise\u001b[39;00m \u001b[38;5;167;01mValueError\u001b[39;00m(\u001b[38;5;124m\"\u001b[39m\u001b[38;5;124mDuplicate column names are not allowed\u001b[39m\u001b[38;5;124m\"\u001b[39m)\n\u001b[0;32m-> 5278\u001b[0m data \u001b[38;5;241m=\u001b[39m {\n\u001b[1;32m   5279\u001b[0m     col_name: column\u001b[38;5;241m.\u001b[39mas_column(\n\u001b[1;32m   5280\u001b[0m         col_value\u001b[38;5;241m.\u001b[39marray, nan_as_null\u001b[38;5;241m=\u001b[39mnan_as_null\n\u001b[1;32m   5281\u001b[0m     )\n\u001b[1;32m   5282\u001b[0m     \u001b[38;5;28;01mfor\u001b[39;00m col_name, col_value \u001b[38;5;129;01min\u001b[39;00m dataframe\u001b[38;5;241m.\u001b[39mitems()\n\u001b[1;32m   5283\u001b[0m }\n\u001b[1;32m   5284\u001b[0m \u001b[38;5;28;01mif\u001b[39;00m \u001b[38;5;28misinstance\u001b[39m(dataframe\u001b[38;5;241m.\u001b[39mindex, pd\u001b[38;5;241m.\u001b[39mMultiIndex):\n\u001b[1;32m   5285\u001b[0m     index \u001b[38;5;241m=\u001b[39m cudf\u001b[38;5;241m.\u001b[39mMultiIndex\u001b[38;5;241m.\u001b[39mfrom_pandas(\n\u001b[1;32m   5286\u001b[0m         dataframe\u001b[38;5;241m.\u001b[39mindex, nan_as_null\u001b[38;5;241m=\u001b[39mnan_as_null\n\u001b[1;32m   5287\u001b[0m     )\n",
      "File \u001b[0;32m~/anaconda3/envs/rapids-24.02/lib/python3.10/site-packages/cudf/core/dataframe.py:5279\u001b[0m, in \u001b[0;36m<dictcomp>\u001b[0;34m(.0)\u001b[0m\n\u001b[1;32m   5275\u001b[0m \u001b[38;5;28;01mif\u001b[39;00m \u001b[38;5;129;01mnot\u001b[39;00m dataframe\u001b[38;5;241m.\u001b[39mcolumns\u001b[38;5;241m.\u001b[39mis_unique:\n\u001b[1;32m   5276\u001b[0m     \u001b[38;5;28;01mraise\u001b[39;00m \u001b[38;5;167;01mValueError\u001b[39;00m(\u001b[38;5;124m\"\u001b[39m\u001b[38;5;124mDuplicate column names are not allowed\u001b[39m\u001b[38;5;124m\"\u001b[39m)\n\u001b[1;32m   5278\u001b[0m data \u001b[38;5;241m=\u001b[39m {\n\u001b[0;32m-> 5279\u001b[0m     col_name: \u001b[43mcolumn\u001b[49m\u001b[38;5;241;43m.\u001b[39;49m\u001b[43mas_column\u001b[49m\u001b[43m(\u001b[49m\n\u001b[1;32m   5280\u001b[0m \u001b[43m        \u001b[49m\u001b[43mcol_value\u001b[49m\u001b[38;5;241;43m.\u001b[39;49m\u001b[43marray\u001b[49m\u001b[43m,\u001b[49m\u001b[43m \u001b[49m\u001b[43mnan_as_null\u001b[49m\u001b[38;5;241;43m=\u001b[39;49m\u001b[43mnan_as_null\u001b[49m\n\u001b[1;32m   5281\u001b[0m \u001b[43m    \u001b[49m\u001b[43m)\u001b[49m\n\u001b[1;32m   5282\u001b[0m     \u001b[38;5;28;01mfor\u001b[39;00m col_name, col_value \u001b[38;5;129;01min\u001b[39;00m dataframe\u001b[38;5;241m.\u001b[39mitems()\n\u001b[1;32m   5283\u001b[0m }\n\u001b[1;32m   5284\u001b[0m \u001b[38;5;28;01mif\u001b[39;00m \u001b[38;5;28misinstance\u001b[39m(dataframe\u001b[38;5;241m.\u001b[39mindex, pd\u001b[38;5;241m.\u001b[39mMultiIndex):\n\u001b[1;32m   5285\u001b[0m     index \u001b[38;5;241m=\u001b[39m cudf\u001b[38;5;241m.\u001b[39mMultiIndex\u001b[38;5;241m.\u001b[39mfrom_pandas(\n\u001b[1;32m   5286\u001b[0m         dataframe\u001b[38;5;241m.\u001b[39mindex, nan_as_null\u001b[38;5;241m=\u001b[39mnan_as_null\n\u001b[1;32m   5287\u001b[0m     )\n",
      "File \u001b[0;32m~/anaconda3/envs/rapids-24.02/lib/python3.10/site-packages/cudf/core/column/column.py:2034\u001b[0m, in \u001b[0;36mas_column\u001b[0;34m(arbitrary, nan_as_null, dtype, length)\u001b[0m\n\u001b[1;32m   2032\u001b[0m     \u001b[38;5;28;01melse\u001b[39;00m:\n\u001b[1;32m   2033\u001b[0m         arbitrary \u001b[38;5;241m=\u001b[39m cupy\u001b[38;5;241m.\u001b[39masarray(arbitrary)\n\u001b[0;32m-> 2034\u001b[0m     data \u001b[38;5;241m=\u001b[39m \u001b[43mas_column\u001b[49m\u001b[43m(\u001b[49m\n\u001b[1;32m   2035\u001b[0m \u001b[43m        \u001b[49m\u001b[43marbitrary\u001b[49m\u001b[43m,\u001b[49m\u001b[43m \u001b[49m\u001b[43mnan_as_null\u001b[49m\u001b[38;5;241;43m=\u001b[39;49m\u001b[43mnan_as_null\u001b[49m\u001b[43m,\u001b[49m\u001b[43m \u001b[49m\u001b[43mdtype\u001b[49m\u001b[38;5;241;43m=\u001b[39;49m\u001b[43mdtype\u001b[49m\u001b[43m,\u001b[49m\u001b[43m \u001b[49m\u001b[43mlength\u001b[49m\u001b[38;5;241;43m=\u001b[39;49m\u001b[43mlength\u001b[49m\n\u001b[1;32m   2036\u001b[0m \u001b[43m    \u001b[49m\u001b[43m)\u001b[49m\n\u001b[1;32m   2037\u001b[0m \u001b[38;5;28;01melif\u001b[39;00m arbitrary\u001b[38;5;241m.\u001b[39mdtype\u001b[38;5;241m.\u001b[39mkind \u001b[38;5;241m==\u001b[39m \u001b[38;5;124m\"\u001b[39m\u001b[38;5;124mO\u001b[39m\u001b[38;5;124m\"\u001b[39m:\n\u001b[1;32m   2038\u001b[0m     \u001b[38;5;28;01mif\u001b[39;00m \u001b[38;5;28mlen\u001b[39m(arbitrary) \u001b[38;5;241m==\u001b[39m \u001b[38;5;241m0\u001b[39m:\n\u001b[1;32m   2039\u001b[0m         \u001b[38;5;66;03m# TODO: Can remove once empty constructor default becomes\u001b[39;00m\n\u001b[1;32m   2040\u001b[0m         \u001b[38;5;66;03m# object instead of float.\u001b[39;00m\n",
      "File \u001b[0;32m~/anaconda3/envs/rapids-24.02/lib/python3.10/site-packages/cudf/core/column/column.py:1914\u001b[0m, in \u001b[0;36mas_column\u001b[0;34m(arbitrary, nan_as_null, dtype, length)\u001b[0m\n\u001b[1;32m   1912\u001b[0m \u001b[38;5;28;01melif\u001b[39;00m np\u001b[38;5;241m.\u001b[39missubdtype(col\u001b[38;5;241m.\u001b[39mdtype, np\u001b[38;5;241m.\u001b[39mfloating):\n\u001b[1;32m   1913\u001b[0m     \u001b[38;5;28;01mif\u001b[39;00m nan_as_null \u001b[38;5;129;01mor\u001b[39;00m (mask \u001b[38;5;129;01mis\u001b[39;00m \u001b[38;5;28;01mNone\u001b[39;00m \u001b[38;5;129;01mand\u001b[39;00m nan_as_null \u001b[38;5;129;01mis\u001b[39;00m \u001b[38;5;28;01mNone\u001b[39;00m):\n\u001b[0;32m-> 1914\u001b[0m         mask \u001b[38;5;241m=\u001b[39m libcudf\u001b[38;5;241m.\u001b[39mtransform\u001b[38;5;241m.\u001b[39mnans_to_nulls(\u001b[43mcol\u001b[49m\u001b[38;5;241;43m.\u001b[39;49m\u001b[43mfillna\u001b[49m\u001b[43m(\u001b[49m\u001b[43mnp\u001b[49m\u001b[38;5;241;43m.\u001b[39;49m\u001b[43mnan\u001b[49m\u001b[43m)\u001b[49m)\n\u001b[1;32m   1915\u001b[0m         col \u001b[38;5;241m=\u001b[39m col\u001b[38;5;241m.\u001b[39mset_mask(mask)\n\u001b[1;32m   1916\u001b[0m \u001b[38;5;28;01melif\u001b[39;00m np\u001b[38;5;241m.\u001b[39missubdtype(col\u001b[38;5;241m.\u001b[39mdtype, np\u001b[38;5;241m.\u001b[39mdatetime64):\n",
      "File \u001b[0;32m~/anaconda3/envs/rapids-24.02/lib/python3.10/site-packages/cudf/core/column/numerical.py:532\u001b[0m, in \u001b[0;36mNumericalColumn.fillna\u001b[0;34m(self, fill_value, method)\u001b[0m\n\u001b[1;32m    524\u001b[0m \u001b[38;5;28;01mdef\u001b[39;00m \u001b[38;5;21mfillna\u001b[39m(\n\u001b[1;32m    525\u001b[0m     \u001b[38;5;28mself\u001b[39m,\n\u001b[1;32m    526\u001b[0m     fill_value: Any \u001b[38;5;241m=\u001b[39m \u001b[38;5;28;01mNone\u001b[39;00m,\n\u001b[1;32m    527\u001b[0m     method: Optional[\u001b[38;5;28mstr\u001b[39m] \u001b[38;5;241m=\u001b[39m \u001b[38;5;28;01mNone\u001b[39;00m,\n\u001b[1;32m    528\u001b[0m ) \u001b[38;5;241m-\u001b[39m\u001b[38;5;241m>\u001b[39m Self:\n\u001b[1;32m    529\u001b[0m \u001b[38;5;250m    \u001b[39m\u001b[38;5;124;03m\"\"\"\u001b[39;00m\n\u001b[1;32m    530\u001b[0m \u001b[38;5;124;03m    Fill null values with *fill_value*\u001b[39;00m\n\u001b[1;32m    531\u001b[0m \u001b[38;5;124;03m    \"\"\"\u001b[39;00m\n\u001b[0;32m--> 532\u001b[0m     col \u001b[38;5;241m=\u001b[39m \u001b[38;5;28;43mself\u001b[39;49m\u001b[38;5;241;43m.\u001b[39;49m\u001b[43mnans_to_nulls\u001b[49m\u001b[43m(\u001b[49m\u001b[43m)\u001b[49m\n\u001b[1;32m    534\u001b[0m     \u001b[38;5;28;01mif\u001b[39;00m col\u001b[38;5;241m.\u001b[39mnull_count \u001b[38;5;241m==\u001b[39m \u001b[38;5;241m0\u001b[39m:\n\u001b[1;32m    535\u001b[0m         \u001b[38;5;28;01mreturn\u001b[39;00m col\n",
      "File \u001b[0;32m~/anaconda3/envs/rapids-24.02/lib/python3.10/site-packages/cudf/core/column/numerical.py:296\u001b[0m, in \u001b[0;36mNumericalColumn.nans_to_nulls\u001b[0;34m(self)\u001b[0m\n\u001b[1;32m    294\u001b[0m \u001b[38;5;28;01mdef\u001b[39;00m \u001b[38;5;21mnans_to_nulls\u001b[39m(\u001b[38;5;28mself\u001b[39m: Self) \u001b[38;5;241m-\u001b[39m\u001b[38;5;241m>\u001b[39m Self:\n\u001b[1;32m    295\u001b[0m     \u001b[38;5;66;03m# Only floats can contain nan.\u001b[39;00m\n\u001b[0;32m--> 296\u001b[0m     \u001b[38;5;28;01mif\u001b[39;00m \u001b[38;5;28mself\u001b[39m\u001b[38;5;241m.\u001b[39mdtype\u001b[38;5;241m.\u001b[39mkind \u001b[38;5;241m!=\u001b[39m \u001b[38;5;124m\"\u001b[39m\u001b[38;5;124mf\u001b[39m\u001b[38;5;124m\"\u001b[39m \u001b[38;5;129;01mor\u001b[39;00m \u001b[38;5;28;43mself\u001b[39;49m\u001b[38;5;241;43m.\u001b[39;49m\u001b[43mnan_count\u001b[49m \u001b[38;5;241m==\u001b[39m \u001b[38;5;241m0\u001b[39m:\n\u001b[1;32m    297\u001b[0m         \u001b[38;5;28;01mreturn\u001b[39;00m \u001b[38;5;28mself\u001b[39m\n\u001b[1;32m    298\u001b[0m     newmask \u001b[38;5;241m=\u001b[39m libcudf\u001b[38;5;241m.\u001b[39mtransform\u001b[38;5;241m.\u001b[39mnans_to_nulls(\u001b[38;5;28mself\u001b[39m)\n",
      "File \u001b[0;32m~/anaconda3/envs/rapids-24.02/lib/python3.10/site-packages/cudf/core/column/numerical.py:419\u001b[0m, in \u001b[0;36mNumericalColumn.nan_count\u001b[0;34m(self)\u001b[0m\n\u001b[1;32m    417\u001b[0m     \u001b[38;5;28mself\u001b[39m\u001b[38;5;241m.\u001b[39m_nan_count \u001b[38;5;241m=\u001b[39m \u001b[38;5;241m0\u001b[39m\n\u001b[1;32m    418\u001b[0m \u001b[38;5;28;01melif\u001b[39;00m \u001b[38;5;28mself\u001b[39m\u001b[38;5;241m.\u001b[39m_nan_count \u001b[38;5;129;01mis\u001b[39;00m \u001b[38;5;28;01mNone\u001b[39;00m:\n\u001b[0;32m--> 419\u001b[0m     nan_col \u001b[38;5;241m=\u001b[39m \u001b[43mlibcudf\u001b[49m\u001b[38;5;241;43m.\u001b[39;49m\u001b[43munary\u001b[49m\u001b[38;5;241;43m.\u001b[39;49m\u001b[43mis_nan\u001b[49m\u001b[43m(\u001b[49m\u001b[38;5;28;43mself\u001b[39;49m\u001b[43m)\u001b[49m\n\u001b[1;32m    420\u001b[0m     \u001b[38;5;28mself\u001b[39m\u001b[38;5;241m.\u001b[39m_nan_count \u001b[38;5;241m=\u001b[39m nan_col\u001b[38;5;241m.\u001b[39msum()\n\u001b[1;32m    421\u001b[0m \u001b[38;5;28;01mreturn\u001b[39;00m \u001b[38;5;28mself\u001b[39m\u001b[38;5;241m.\u001b[39m_nan_count\n",
      "File \u001b[0;32m~/anaconda3/envs/rapids-24.02/lib/python3.10/contextlib.py:79\u001b[0m, in \u001b[0;36mContextDecorator.__call__.<locals>.inner\u001b[0;34m(*args, **kwds)\u001b[0m\n\u001b[1;32m     76\u001b[0m \u001b[38;5;129m@wraps\u001b[39m(func)\n\u001b[1;32m     77\u001b[0m \u001b[38;5;28;01mdef\u001b[39;00m \u001b[38;5;21minner\u001b[39m(\u001b[38;5;241m*\u001b[39margs, \u001b[38;5;241m*\u001b[39m\u001b[38;5;241m*\u001b[39mkwds):\n\u001b[1;32m     78\u001b[0m     \u001b[38;5;28;01mwith\u001b[39;00m \u001b[38;5;28mself\u001b[39m\u001b[38;5;241m.\u001b[39m_recreate_cm():\n\u001b[0;32m---> 79\u001b[0m         \u001b[38;5;28;01mreturn\u001b[39;00m \u001b[43mfunc\u001b[49m\u001b[43m(\u001b[49m\u001b[38;5;241;43m*\u001b[39;49m\u001b[43margs\u001b[49m\u001b[43m,\u001b[49m\u001b[43m \u001b[49m\u001b[38;5;241;43m*\u001b[39;49m\u001b[38;5;241;43m*\u001b[39;49m\u001b[43mkwds\u001b[49m\u001b[43m)\u001b[49m\n",
      "File \u001b[0;32munary.pyx:109\u001b[0m, in \u001b[0;36mcudf._lib.unary.is_nan\u001b[0;34m()\u001b[0m\n",
      "\u001b[0;31mRuntimeError\u001b[0m: This program was not compiled for SM 61  \n: cudaErrorInvalidDevice: invalid device ordinal"
     ]
    }
   ],
   "source": [
    "import cudf\n",
    "import numpy as np\n",
    "from cuml.neighbors import KNeighborsClassifier\n",
    "from sklearn.model_selection import train_test_split\n",
    "from sklearn.metrics import accuracy_score\n",
    "\n",
    "# Load the dataset\n",
    "data_pd = pd.read_csv(\"ProcessedData.csv\")\n",
    "\n",
    "# Convert the pandas DataFrame to a cuDF DataFrame\n",
    "data = cudf.DataFrame.from_pandas(data_pd)\n",
    "\n",
    "print(\"Shape of data:\", data.shape)\n",
    "\n",
    "# Extract features and target variable\n",
    "X = data.iloc[:, 2:].values  \n",
    "y = data.iloc[:, 1].values\n",
    "\n",
    "# Split the data into training and testing sets\n",
    "X_train, X_test, y_train, y_test = train_test_split(X, y, test_size=0.2, random_state=42)\n",
    "\n",
    "# Convert to cuDF DataFrame\n",
    "X_train_cudf = cudf.DataFrame(X_train)\n",
    "X_test_cudf = cudf.DataFrame(X_test)\n",
    "y_train_cudf = cudf.Series(y_train)\n",
    "y_test_cudf = cudf.Series(y_test)\n",
    "\n",
    "# Initialize and train the KNN classifier on GPU\n",
    "knn = KNeighborsClassifier(n_neighbors=5)\n",
    "knn.fit(X_train_cudf, y_train_cudf)\n",
    "\n",
    "# Predict on the test set\n",
    "y_pred = knn.predict(X_test_cudf)\n",
    "\n",
    "# Calculate the accuracy\n",
    "accuracy = accuracy_score(y_test, y_pred)\n",
    "\n",
    "# Print the accuracy\n",
    "print(\"Accuracy:\", accuracy)"
   ]
  }
 ],
 "metadata": {
  "kernelspec": {
   "display_name": "Python 3",
   "language": "python",
   "name": "python3"
  },
  "language_info": {
   "codemirror_mode": {
    "name": "ipython",
    "version": 3
   },
   "file_extension": ".py",
   "mimetype": "text/x-python",
   "name": "python",
   "nbconvert_exporter": "python",
   "pygments_lexer": "ipython3",
   "version": "3.10.14"
  }
 },
 "nbformat": 4,
 "nbformat_minor": 2
}
