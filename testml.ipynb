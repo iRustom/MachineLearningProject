{
 "cells": [
  {
   "cell_type": "code",
   "execution_count": 72,
   "metadata": {},
   "outputs": [
    {
     "name": "stdout",
     "output_type": "stream",
     "text": [
      "(246008, 148) (61503, 148) (246008,) (61503,)\n"
     ]
    }
   ],
   "source": [
    "import pandas as pd\n",
    "from sklearn.model_selection import train_test_split\n",
    "from sklearn.preprocessing import StandardScaler\n",
    "from sklearn.linear_model import LogisticRegression\n",
    "from sklearn.neighbors import KNeighborsClassifier\n",
    "from sklearn.linear_model import LinearRegression\n",
    "from sklearn.metrics import accuracy_score, recall_score, precision_score, f1_score, roc_auc_score\n",
    "from sklearn.metrics import mean_squared_error, r2_score, classification_report, confusion_matrix\n",
    "from sklearn.model_selection import GridSearchCV, StratifiedKFold\n",
    "\n",
    "\n",
    "# Load the dataset\n",
    "data = pd.read_csv(\"ProcessedData.csv\")\n",
    "\n",
    "X = data.iloc[:, 2:].values  \n",
    "y = data.iloc[:, 1].values\n",
    "\n",
    "# Split the data into training and testing sets\n",
    "X_train, X_test, y_train, y_test = train_test_split(X, y, test_size=0.2, random_state=42)\n",
    "print(X_train.shape, X_test.shape, y_train.shape, y_test.shape)"
   ]
  },
  {
   "cell_type": "markdown",
   "metadata": {},
   "source": [
    "# KNN"
   ]
  },
  {
   "cell_type": "code",
   "execution_count": 73,
   "metadata": {},
   "outputs": [
    {
     "name": "stdout",
     "output_type": "stream",
     "text": [
      "Accuracy: 0.9187519308001235\n",
      "Recall: 0.0030309153364316025\n",
      "Precision: 0.19230769230769232\n",
      "F1 Score: 0.005967774020290432\n",
      "AUC: 0.5009584678885363\n",
      "\n",
      "Classification Report:\n",
      "              precision    recall  f1-score   support\n",
      "\n",
      "           0       0.92      1.00      0.96     56554\n",
      "           1       0.19      0.00      0.01      4949\n",
      "\n",
      "    accuracy                           0.92     61503\n",
      "   macro avg       0.56      0.50      0.48     61503\n",
      "weighted avg       0.86      0.92      0.88     61503\n",
      "\n"
     ]
    }
   ],
   "source": [
    "# Initialize the KNN classifier\n",
    "k = 8  # You can choose any value for k\n",
    "knn_classifier = KNeighborsClassifier(n_neighbors=k)\n",
    "\n",
    "# Train the classifier\n",
    "knn_classifier.fit(X_train, y_train)\n",
    "\n",
    "# Predictions on the test set\n",
    "y_pred = knn_classifier.predict(X_test)\n",
    "\n",
    "# Evaluate the model\n",
    "\n",
    "accuracy = accuracy_score(y_test, y_pred)\n",
    "recall = recall_score(y_test, y_pred)\n",
    "precision = precision_score(y_test, y_pred)\n",
    "f1 = f1_score(y_test, y_pred)\n",
    "auc = roc_auc_score(y_test, y_pred)\n",
    "\n",
    "# Print the metrics\n",
    "print(\"Accuracy:\", accuracy)\n",
    "print(\"Recall:\", recall)\n",
    "print(\"Precision:\", precision)\n",
    "print(\"F1 Score:\", f1)\n",
    "print(\"AUC:\", auc)\n",
    "\n",
    "# Additional evaluation metrics\n",
    "print(\"\\nClassification Report:\")\n",
    "print(classification_report(y_test, y_pred))"
   ]
  },
  {
   "cell_type": "markdown",
   "metadata": {},
   "source": [
    "# Linear Regression"
   ]
  },
  {
   "cell_type": "code",
   "execution_count": 74,
   "metadata": {},
   "outputs": [
    {
     "name": "stdout",
     "output_type": "stream",
     "text": [
      "\n",
      "Linear Regression Mean Squared Error: 0.08045136009625546\n",
      "Linear Regression R-squared Score: -0.08728953992533794\n"
     ]
    }
   ],
   "source": [
    "# Create a Linear Regression model\n",
    "linear_reg = LinearRegression()\n",
    "\n",
    "# Train the Linear Regression model\n",
    "linear_reg.fit(X_train, y_train)\n",
    "\n",
    "# Make predictions using Linear Regression\n",
    "linear_reg_y_pred = linear_reg.predict(X_test)\n",
    "\n",
    "# Convert predictions to binary using a threshold of 0.5\n",
    "threshold = 0.5\n",
    "binary_predictions = (linear_reg_y_pred > threshold).astype(int)\n",
    "\n",
    "# Evaluate the Linear Regression model\n",
    "linear_reg_mse = mean_squared_error(y_test, binary_predictions)\n",
    "linear_reg_r2 = r2_score(y_test, binary_predictions)\n",
    "\n",
    "print(\"\\nLinear Regression Mean Squared Error:\", linear_reg_mse)\n",
    "print(\"Linear Regression R-squared Score:\", linear_reg_r2)"
   ]
  },
  {
   "cell_type": "markdown",
   "metadata": {},
   "source": [
    "# Logistic Regression"
   ]
  },
  {
   "cell_type": "code",
   "execution_count": 75,
   "metadata": {},
   "outputs": [
    {
     "name": "stdout",
     "output_type": "stream",
     "text": [
      "\n",
      "True Positives (TP): 1\n",
      "False Positives (FP): 1\n",
      "True Negatives (TN): 56553\n",
      "False Negatives (FN): 4948\n",
      "\n",
      "Positive Predictions: 2\n",
      "Negative Predictions: 61501\n",
      "\n",
      "Logistic Regression Accuracy: 0.9195323805342829\n",
      "Logistic Regression Recall: 0.00020206102242877348\n",
      "Logistic Regression Precision: 0.5\n",
      "Logistic Regression F1 Score: 0.0004039587962027873\n",
      "Logistic Regression AUC: 0.5000921894036003\n",
      "\n",
      "Logistic Regression Classification Report:\n",
      "              precision    recall  f1-score   support\n",
      "\n",
      "           0       0.92      1.00      0.96     56554\n",
      "           1       0.50      0.00      0.00      4949\n",
      "\n",
      "    accuracy                           0.92     61503\n",
      "   macro avg       0.71      0.50      0.48     61503\n",
      "weighted avg       0.89      0.92      0.88     61503\n",
      "\n",
      "\n",
      "Mean Squared Error: 0.08124806919987643\n",
      "R-squared Score: -0.098056958570516\n"
     ]
    },
    {
     "name": "stderr",
     "output_type": "stream",
     "text": [
      "/home/rustom/anaconda3/lib/python3.11/site-packages/sklearn/linear_model/_logistic.py:458: ConvergenceWarning: lbfgs failed to converge (status=1):\n",
      "STOP: TOTAL NO. of ITERATIONS REACHED LIMIT.\n",
      "\n",
      "Increase the number of iterations (max_iter) or scale the data as shown in:\n",
      "    https://scikit-learn.org/stable/modules/preprocessing.html\n",
      "Please also refer to the documentation for alternative solver options:\n",
      "    https://scikit-learn.org/stable/modules/linear_model.html#logistic-regression\n",
      "  n_iter_i = _check_optimize_result(\n"
     ]
    }
   ],
   "source": [
    "logistic_reg = LogisticRegression()\n",
    "\n",
    "# Train the Logistic Regression model\n",
    "logistic_reg.fit(X_train, y_train)\n",
    "\n",
    "# Make predictions using Logistic Regression\n",
    "logistic_reg_y_pred = logistic_reg.predict(X_test)\n",
    "\n",
    "conf_matrix = confusion_matrix(y_test, logistic_reg_y_pred)\n",
    "tn, fp, fn, tp = conf_matrix.ravel()\n",
    "\n",
    "# Output TP, FP, TN, FN\n",
    "print(\"\\nTrue Positives (TP):\", tp)\n",
    "print(\"False Positives (FP):\", fp)\n",
    "print(\"True Negatives (TN):\", tn)\n",
    "print(\"False Negatives (FN):\", fn)\n",
    "\n",
    "positive_predictions = (logistic_reg_y_pred == 1).sum()\n",
    "negative_predictions = (logistic_reg_y_pred == 0).sum()\n",
    "print(\"\\nPositive Predictions:\", positive_predictions)\n",
    "print(\"Negative Predictions:\", negative_predictions)\n",
    "\n",
    "# Evaluate Logistic Regression model\n",
    "logistic_reg_accuracy = accuracy_score(y_test, logistic_reg_y_pred)\n",
    "logistic_reg_accuracy = accuracy_score(y_test, logistic_reg_y_pred)\n",
    "logistic_reg_recall = recall_score(y_test, logistic_reg_y_pred)\n",
    "logistic_reg_precision = precision_score(y_test, logistic_reg_y_pred)\n",
    "logistic_reg_f1 = f1_score(y_test, logistic_reg_y_pred)\n",
    "logistic_reg_auc = roc_auc_score(y_test, logistic_reg_y_pred)\n",
    "\n",
    "print(\"\\nLogistic Regression Accuracy:\", logistic_reg_accuracy)\n",
    "print(\"Logistic Regression Recall:\", logistic_reg_recall)\n",
    "print(\"Logistic Regression Precision:\", logistic_reg_precision)\n",
    "print(\"Logistic Regression F1 Score:\", logistic_reg_f1)\n",
    "print(\"Logistic Regression AUC:\", logistic_reg_auc)\n",
    "\n",
    "print(\"\\nLogistic Regression Classification Report:\")\n",
    "print(classification_report(y_test, logistic_reg_y_pred))\n",
    "\n",
    "mse = mean_squared_error(y_test, y_pred)\n",
    "r2_sc = r2_score(y_test, y_pred)\n",
    "\n",
    "print(\"\\nMean Squared Error:\", mse)\n",
    "print(\"R-squared Score:\", r2_sc)"
   ]
  },
  {
   "cell_type": "markdown",
   "metadata": {},
   "source": [
    "# Decision Trees"
   ]
  },
  {
   "cell_type": "code",
   "execution_count": null,
   "metadata": {},
   "outputs": [],
   "source": [
    "# Import necessary libraries\n",
    "import pandas as pd\n",
    "from sklearn.model_selection import train_test_split\n",
    "from sklearn.tree import DecisionTreeClassifier\n",
    "from sklearn.metrics import accuracy_score\n",
    "\n",
    "# Create a Random Forest classifier\n",
    "dt_classifier = DecisionTreeClassifier()\n",
    "\n",
    "# Train the classifier on the training data\n",
    "dt_classifier.fit(X_train, y_train)\n",
    "\n",
    "# Predict on the testing data\n",
    "y_pred = dt_classifier.predict(X_test)\n",
    "\n",
    "# Calculate the accuracy of the model\n",
    "accuracy = accuracy_score(y_test, y_pred)\n",
    "precision = precision_score(y_test, y_pred)\n",
    "recall = recall_score(y_test, y_pred)\n",
    "f1 = f1_score(y_test, y_pred)\n",
    "auc = roc_auc_score(y_test, y_pred)\n",
    "\n",
    "# Print the evaluation metrics\n",
    "print(\"Decision Tree Classifier Metrics:\")\n",
    "print(\"Accuracy:\", accuracy)\n",
    "print(\"Precision:\", precision)\n",
    "print(\"Recall:\", recall)\n",
    "print(\"F1 Score:\", f1)\n",
    "print(\"AUC:\", auc)\n",
    "\n",
    "# Classification report\n",
    "print(\"\\nClassification Report:\")\n",
    "print(classification_report(y_test, y_pred))\n",
    "\n",
    "mse = mean_squared_error(y_test, y_pred)\n",
    "r2_sc = r2_score(y_test, y_pred)\n",
    "\n",
    "print(\"\\nMean Squared Error:\", mse)\n",
    "print(\"R-squared Score:\", r2_sc)"
   ]
  },
  {
   "cell_type": "markdown",
   "metadata": {},
   "source": [
    "# Random Forest"
   ]
  },
  {
   "cell_type": "code",
   "execution_count": 76,
   "metadata": {},
   "outputs": [
    {
     "name": "stdout",
     "output_type": "stream",
     "text": [
      "Random Forest Classifier Metrics:\n",
      "Accuracy: 0.9195486399037446\n",
      "Precision: 1.0\n",
      "Recall: 0.00020206102242877348\n",
      "F1 Score: 0.00040404040404040404\n",
      "AUC: 0.5001010305112144\n",
      "\n",
      "Classification Report:\n",
      "              precision    recall  f1-score   support\n",
      "\n",
      "           0       0.92      1.00      0.96     56554\n",
      "           1       1.00      0.00      0.00      4949\n",
      "\n",
      "    accuracy                           0.92     61503\n",
      "   macro avg       0.96      0.50      0.48     61503\n",
      "weighted avg       0.93      0.92      0.88     61503\n",
      "\n",
      "\n",
      "Mean Squared Error: 0.08045136009625546\n",
      "R-squared Score: -0.08728953992533794\n"
     ]
    }
   ],
   "source": [
    "# Import necessary libraries\n",
    "import pandas as pd\n",
    "from sklearn.model_selection import train_test_split\n",
    "from sklearn.ensemble import RandomForestClassifier\n",
    "from sklearn.metrics import accuracy_score\n",
    "\n",
    "# Create a Random Forest classifier\n",
    "rf_classifier = RandomForestClassifier()\n",
    "\n",
    "# Train the classifier on the training data\n",
    "rf_classifier.fit(X_train, y_train)\n",
    "\n",
    "# Predict on the testing data\n",
    "y_pred = rf_classifier.predict(X_test)\n",
    "\n",
    "# Calculate the accuracy of the model\n",
    "accuracy = accuracy_score(y_test, y_pred)\n",
    "precision = precision_score(y_test, y_pred)\n",
    "recall = recall_score(y_test, y_pred)\n",
    "f1 = f1_score(y_test, y_pred)\n",
    "auc = roc_auc_score(y_test, y_pred)\n",
    "\n",
    "# Print the evaluation metrics\n",
    "print(\"Random Forest Classifier Metrics:\")\n",
    "print(\"Accuracy:\", accuracy)\n",
    "print(\"Precision:\", precision)\n",
    "print(\"Recall:\", recall)\n",
    "print(\"F1 Score:\", f1)\n",
    "print(\"AUC:\", auc)\n",
    "\n",
    "# Classification report\n",
    "print(\"\\nClassification Report:\")\n",
    "print(classification_report(y_test, y_pred))\n",
    "\n",
    "mse = mean_squared_error(y_test, y_pred)\n",
    "r2_sc = r2_score(y_test, y_pred)\n",
    "\n",
    "print(\"\\nMean Squared Error:\", mse)\n",
    "print(\"R-squared Score:\", r2_sc)"
   ]
  }
 ],
 "metadata": {
  "kernelspec": {
   "display_name": "Python 3",
   "language": "python",
   "name": "python3"
  },
  "language_info": {
   "codemirror_mode": {
    "name": "ipython",
    "version": 3
   },
   "file_extension": ".py",
   "mimetype": "text/x-python",
   "name": "python",
   "nbconvert_exporter": "python",
   "pygments_lexer": "ipython3",
   "version": "3.11.7"
  }
 },
 "nbformat": 4,
 "nbformat_minor": 2
}
